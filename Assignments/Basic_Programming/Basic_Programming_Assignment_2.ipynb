{
 "cells": [
  {
   "cell_type": "markdown",
   "metadata": {},
   "source": [
    "# Assignment - 2 Solution"
   ]
  },
  {
   "cell_type": "markdown",
   "metadata": {},
   "source": [
    "#### 1.Write a Python program to convert Kilometers to Miles ?"
   ]
  },
  {
   "cell_type": "code",
   "execution_count": 1,
   "metadata": {},
   "outputs": [
    {
     "name": "stdout",
     "output_type": "stream",
     "text": [
      "Enter value in kilometers: 10\n",
      "10.0 km is Equal to 6.21 miles\n"
     ]
    }
   ],
   "source": [
    "def km2miles():\n",
    "    km = float(input(\"Enter value in kilometers: \"))\n",
    "    print(\"{} km is Equal to {} miles\".format(km,km*0.621))\n",
    "\n",
    "km2miles()"
   ]
  },
  {
   "cell_type": "markdown",
   "metadata": {},
   "source": [
    "#### 2.Write a Python program to convert Celsius to Farenheit ?"
   ]
  },
  {
   "cell_type": "code",
   "execution_count": 2,
   "metadata": {},
   "outputs": [
    {
     "name": "stdout",
     "output_type": "stream",
     "text": [
      "Enter temperature in celsius: 20\n",
      "20° Celsius is Equal to 68.0° Farenheits\n"
     ]
    }
   ],
   "source": [
    "def cel2far():\n",
    "    celsius = int(input(\"Enter temperature in celsius: \"))\n",
    "    faren = (celsius*(9/5))+32\n",
    "    print(\"{}° Celsius is Equal to {}° Farenheits\".format(celsius,faren))\n",
    "    \n",
    "cel2far()"
   ]
  },
  {
   "cell_type": "markdown",
   "metadata": {},
   "source": [
    "#### 3.Write a Python program to display calender ?"
   ]
  },
  {
   "cell_type": "code",
   "execution_count": 3,
   "metadata": {},
   "outputs": [
    {
     "name": "stdout",
     "output_type": "stream",
     "text": [
      "Enter the year: 2000\n",
      "                                  2000\n",
      "\n",
      "      January                   February                   March\n",
      "Mo Tu We Th Fr Sa Su      Mo Tu We Th Fr Sa Su      Mo Tu We Th Fr Sa Su\n",
      "                1  2          1  2  3  4  5  6             1  2  3  4  5\n",
      " 3  4  5  6  7  8  9       7  8  9 10 11 12 13       6  7  8  9 10 11 12\n",
      "10 11 12 13 14 15 16      14 15 16 17 18 19 20      13 14 15 16 17 18 19\n",
      "17 18 19 20 21 22 23      21 22 23 24 25 26 27      20 21 22 23 24 25 26\n",
      "24 25 26 27 28 29 30      28 29                     27 28 29 30 31\n",
      "31\n",
      "\n",
      "       April                      May                       June\n",
      "Mo Tu We Th Fr Sa Su      Mo Tu We Th Fr Sa Su      Mo Tu We Th Fr Sa Su\n",
      "                1  2       1  2  3  4  5  6  7                1  2  3  4\n",
      " 3  4  5  6  7  8  9       8  9 10 11 12 13 14       5  6  7  8  9 10 11\n",
      "10 11 12 13 14 15 16      15 16 17 18 19 20 21      12 13 14 15 16 17 18\n",
      "17 18 19 20 21 22 23      22 23 24 25 26 27 28      19 20 21 22 23 24 25\n",
      "24 25 26 27 28 29 30      29 30 31                  26 27 28 29 30\n",
      "\n",
      "        July                     August                  September\n",
      "Mo Tu We Th Fr Sa Su      Mo Tu We Th Fr Sa Su      Mo Tu We Th Fr Sa Su\n",
      "                1  2          1  2  3  4  5  6                   1  2  3\n",
      " 3  4  5  6  7  8  9       7  8  9 10 11 12 13       4  5  6  7  8  9 10\n",
      "10 11 12 13 14 15 16      14 15 16 17 18 19 20      11 12 13 14 15 16 17\n",
      "17 18 19 20 21 22 23      21 22 23 24 25 26 27      18 19 20 21 22 23 24\n",
      "24 25 26 27 28 29 30      28 29 30 31               25 26 27 28 29 30\n",
      "31\n",
      "\n",
      "      October                   November                  December\n",
      "Mo Tu We Th Fr Sa Su      Mo Tu We Th Fr Sa Su      Mo Tu We Th Fr Sa Su\n",
      "                   1             1  2  3  4  5                   1  2  3\n",
      " 2  3  4  5  6  7  8       6  7  8  9 10 11 12       4  5  6  7  8  9 10\n",
      " 9 10 11 12 13 14 15      13 14 15 16 17 18 19      11 12 13 14 15 16 17\n",
      "16 17 18 19 20 21 22      20 21 22 23 24 25 26      18 19 20 21 22 23 24\n",
      "23 24 25 26 27 28 29      27 28 29 30               25 26 27 28 29 30 31\n",
      "30 31\n",
      "\n"
     ]
    }
   ],
   "source": [
    "import calendar\n",
    "\n",
    "def dispCalender():\n",
    "    year = int(input(\"Enter the year: \"))\n",
    "    print(calendar.calendar(year))\n",
    "    \n",
    "dispCalender()"
   ]
  },
  {
   "cell_type": "markdown",
   "metadata": {},
   "source": [
    "#### 4.Write a Python program to solve quadartic equation ?"
   ]
  },
  {
   "cell_type": "code",
   "execution_count": 7,
   "metadata": {},
   "outputs": [
    {
     "name": "stdout",
     "output_type": "stream",
     "text": [
      "Enter a value: 10\n",
      "Enter b value: 20\n",
      "Enter c value: 30\n",
      "Roots are Imaginary: (-1-1.4142135623730951j) (-1+1.4142135623730951j)\n"
     ]
    }
   ],
   "source": [
    "import cmath\n",
    "import math\n",
    "\n",
    "def quadroots(a,b,c):\n",
    "    \n",
    "    discriminant = b*b-4*a*c\n",
    "    \n",
    "    if discriminant == 0:\n",
    "        x1 = -b/2*a\n",
    "        x2 = -b/2*a\n",
    "        print(\"Roots are Real\",x1,x2)\n",
    "    elif discriminant > 0:\n",
    "        x1 = (-b-math.sqrt(discriminant))/(2 * a)\n",
    "        x2 = (-b+math.sqrt(discriminant))/(2 * a)\n",
    "        print(\"Roots are Real and Distinct\",x1,x2)\n",
    "    else:\n",
    "        x1 = (-b-cmath.sqrt(discriminant))/(2 * a)\n",
    "        x2 = (-b+cmath.sqrt(discriminant))/(2 * a)\n",
    "        print(\"Roots are Imaginary:\",x1,x2)\n",
    "\n",
    "\n",
    "a = int(input('Enter a value: '))\n",
    "b = int(input('Enter b value: '))\n",
    "c = int(input('Enter c value: '))\n",
    "\n",
    "quadroots(a,b,c)"
   ]
  },
  {
   "cell_type": "markdown",
   "metadata": {},
   "source": [
    "#### 5.Write a Python program to swap two variables without temp variable ?"
   ]
  },
  {
   "cell_type": "code",
   "execution_count": 6,
   "metadata": {},
   "outputs": [
    {
     "name": "stdout",
     "output_type": "stream",
     "text": [
      "Enter first number: 20\n",
      "Enter second number: 30\n",
      "Before Swapping: 20 30\n",
      "After Swapping: 30 20\n"
     ]
    }
   ],
   "source": [
    "num_1 = int(input('Enter first number: '))\n",
    "num_2 = int(input('Enter second number: '))\n",
    "\n",
    "\n",
    "def swapNumbers(num_1,num_2):\n",
    "        print('Before Swapping:',num_1,num_2)\n",
    "        num_1, num_2 = num_2,num_1\n",
    "        print('After Swapping:',num_1,num_2)\n",
    "\n",
    "swapNumbers(num_1,num_2)"
   ]
  }
 ],
 "metadata": {
  "kernelspec": {
   "display_name": "Python 3",
   "language": "python",
   "name": "python3"
  },
  "language_info": {
   "codemirror_mode": {
    "name": "ipython",
    "version": 3
   },
   "file_extension": ".py",
   "mimetype": "text/x-python",
   "name": "python",
   "nbconvert_exporter": "python",
   "pygments_lexer": "ipython3",
   "version": "3.8.8"
  }
 },
 "nbformat": 4,
 "nbformat_minor": 4
}
