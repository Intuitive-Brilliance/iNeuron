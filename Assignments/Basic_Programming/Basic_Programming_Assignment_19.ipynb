{
 "cells": [
  {
   "cell_type": "markdown",
   "id": "63646903",
   "metadata": {},
   "source": [
    "# Assignment - 19 Solution"
   ]
  },
  {
   "cell_type": "markdown",
   "id": "a80b431a",
   "metadata": {},
   "source": [
    "#### 1.Create a function that takes a string and returns a string in which each character is repeated once.\n",
    "**Examples:**  \n",
    "`double_char(\"String\") ➞ \"SSttrriinngg\"`  \n",
    "`double_char(\"Hello World!\") ➞ \"HHeelllloo WWoorrlldd!!\"`  \n",
    "`doublechar(\"1234!_\") ➞ \"11223344!!__\"`  "
   ]
  },
  {
   "cell_type": "code",
   "execution_count": 2,
   "id": "7c34f85c",
   "metadata": {},
   "outputs": [
    {
     "name": "stdout",
     "output_type": "stream",
     "text": [
      "String ➞ SSttrriinngg\n",
      "Hello World! ➞ HHeelllloo  WWoorrlldd!!\n",
      "1234!_ ➞ 11223344!!__\n"
     ]
    }
   ],
   "source": [
    "def double_char(in_string):\n",
    "    output = ''\n",
    "    for ele in in_string:\n",
    "        output += ele*2\n",
    "    return output\n",
    "\n",
    "lst = [\"String\",\"Hello World!\",\"1234!_\"]\n",
    "\n",
    "for ele in lst:\n",
    "    print(f'{ele} ➞ {double_char(ele)}')"
   ]
  },
  {
   "cell_type": "markdown",
   "id": "36c73da9",
   "metadata": {},
   "source": [
    "#### 2.Create a function that reverses a boolean value and returns the string \"boolean expected\" if another variable type is given.\n",
    "**Examples:**  \n",
    "`reverse(True) ➞ False`  \n",
    "`reverse(False) ➞ True`  \n",
    "`reverse(0) ➞ \"boolean expected\"`  \n",
    "`reverse(None) ➞ \"boolean expected\"`  "
   ]
  },
  {
   "cell_type": "code",
   "execution_count": 3,
   "id": "9cb5a79b",
   "metadata": {},
   "outputs": [
    {
     "name": "stdout",
     "output_type": "stream",
     "text": [
      "True ➞ False\n",
      "False ➞ True\n",
      "0 ➞ Boolean Expected\n",
      "None ➞ Boolean Expected\n"
     ]
    }
   ],
   "source": [
    "def reverse(in_bool):\n",
    "    if type(in_bool) == bool:\n",
    "        return not in_bool\n",
    "    else:\n",
    "        return \"Boolean Expected\"\n",
    "    \n",
    "lst = [True,False,0,None]\n",
    "\n",
    "for ele in lst:\n",
    "    print(f'{ele} ➞ {reverse(ele)}')"
   ]
  },
  {
   "cell_type": "markdown",
   "id": "e6161ea2",
   "metadata": {},
   "source": [
    "#### 3. Create a function that returns the thickness (in meters) of a piece of paper after folding it n number of times. The paper starts off with a thickness of 0.5mm.\n",
    "**Examples:**  \n",
    "`num_layers(1) ➞ \"0.001m\"\n",
    "    # Paper folded once is 1mm (equal to 0.001m)\n",
    "num_layers(4) ➞ \"0.008m\"\n",
    "    # Paper folded 4 times is 8mm (equal to 0.008m)\n",
    "num_layers(21) ➞ \"1048.576m\"\n",
    "    # Paper folded 21 times is 1048576mm (equal to 1048.576m)`"
   ]
  },
  {
   "cell_type": "code",
   "execution_count": 6,
   "id": "3abb23af",
   "metadata": {},
   "outputs": [
    {
     "name": "stdout",
     "output_type": "stream",
     "text": [
      "1 ➞ 0.001m\n",
      "4 ➞ 0.008m\n",
      "21 ➞ 1048.576m\n"
     ]
    }
   ],
   "source": [
    "def num_layers(num):\n",
    "    output = 0.5\n",
    "    for ele in range(num):\n",
    "        output *= 2\n",
    "    return str(output/1000)+'m'\n",
    "    \n",
    "lst = [1,4,21]\n",
    "\n",
    "for ele in lst:\n",
    "    print(f'{ele} ➞ {num_layers(ele)}')"
   ]
  },
  {
   "cell_type": "markdown",
   "id": "c71bac5c",
   "metadata": {},
   "source": [
    "#### 4.Create a function that takes a single string as argument and returns an ordered list containing the indices of all capital letters in the string.\n",
    "**Examples:**  \n",
    "`index_of_caps(\"eDaBiT\") ➞ [1, 3, 5]`  \n",
    "`index_of_caps(\"eQuINoX\") ➞ [1, 3, 4, 6]`  \n",
    "`index_of_caps(\"determine\") ➞ []`  \n",
    "`index_of_caps(\"STRIKE\") ➞ [0, 1, 2, 3, 4, 5]`  \n",
    "`index_of_caps(\"sUn\") ➞ [1]`  "
   ]
  },
  {
   "cell_type": "code",
   "execution_count": 7,
   "id": "e6ce83db",
   "metadata": {},
   "outputs": [
    {
     "name": "stdout",
     "output_type": "stream",
     "text": [
      "eDaBiT ➞ [1, 3, 5]\n",
      "eQuINoX ➞ [1, 3, 4, 6]\n",
      "determine ➞ []\n",
      "STRIKE ➞ [0, 1, 2, 3, 4, 5]\n",
      "sUn ➞ [1]\n"
     ]
    }
   ],
   "source": [
    "def index_of_caps(string):\n",
    "    output = []\n",
    "    for ele in string:\n",
    "        if ele.isupper():\n",
    "            output.append(string.index(ele))\n",
    "    return output\n",
    "\n",
    "lst = [\"eDaBiT\",\"eQuINoX\",\"determine\",\"STRIKE\",\"sUn\"]\n",
    "\n",
    "for ele in lst:\n",
    "    print(f'{ele} ➞ {index_of_caps(ele)}')"
   ]
  },
  {
   "cell_type": "markdown",
   "id": "11770ca9",
   "metadata": {},
   "source": [
    "#### 5.Using list comprehensions, create a function that finds all even numbers from 1 to the given number.\n",
    "**Examples:**  \n",
    "`find_even_nums(8) ➞ [2, 4, 6, 8]`  \n",
    "`find_even_nums(4) ➞ [2, 4]`   \n",
    "`find_even_nums(2) ➞ [2]`  "
   ]
  },
  {
   "cell_type": "code",
   "execution_count": 9,
   "id": "3609695d",
   "metadata": {},
   "outputs": [
    {
     "name": "stdout",
     "output_type": "stream",
     "text": [
      "8 ➞ [2, 4, 6, 8]\n",
      "4 ➞ [2, 4]\n",
      "2 ➞ [2]\n"
     ]
    }
   ],
   "source": [
    "def find_even_nums(num):\n",
    "    output = [i for i in range(1,num+1) if i%2 == 0]\n",
    "    return output\n",
    "    \n",
    "lst = [8,4,2]\n",
    "\n",
    "for ele in lst:\n",
    "    print(f'{ele} ➞ {find_even_nums(ele)}')"
   ]
  }
 ],
 "metadata": {
  "kernelspec": {
   "display_name": "Python 3",
   "language": "python",
   "name": "python3"
  },
  "language_info": {
   "codemirror_mode": {
    "name": "ipython",
    "version": 3
   },
   "file_extension": ".py",
   "mimetype": "text/x-python",
   "name": "python",
   "nbconvert_exporter": "python",
   "pygments_lexer": "ipython3",
   "version": "3.8.8"
  }
 },
 "nbformat": 4,
 "nbformat_minor": 5
}
