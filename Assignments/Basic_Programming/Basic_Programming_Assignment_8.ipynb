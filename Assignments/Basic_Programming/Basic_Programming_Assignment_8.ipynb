{
 "cells": [
  {
   "cell_type": "markdown",
   "id": "d3a4bb27",
   "metadata": {},
   "source": [
    "# Assignment - 8 Solution"
   ]
  },
  {
   "cell_type": "markdown",
   "id": "823845d3",
   "metadata": {},
   "source": [
    "#### 1. Write a Python Program to Add two Matrices ?"
   ]
  },
  {
   "cell_type": "code",
   "execution_count": 16,
   "id": "6dd2fd5c",
   "metadata": {},
   "outputs": [
    {
     "name": "stdout",
     "output_type": "stream",
     "text": [
      "Inputs: [[2, 3, 5], [7, 1, 2], [5, 4, 7]],[[4, 4, 5], [6, 5, 3], [3, 2, 5]]\n",
      "[[6, 7, 10], [13, 6, 5], [8, 6, 12]]\n",
      "Inputs: [[2, 3, 5], [7, 1, 2], [5, 47]],[[4, 4, 5], [6, 5, 3], [3, 2, 5]]\n",
      "Both Matrices must contains same noumber of rows and columns\n"
     ]
    }
   ],
   "source": [
    "def add_mat(a,b):\n",
    "    print(f'Inputs: {a},{b}')\n",
    "    if len(a) == len(b):\n",
    "        out_matrix = []\n",
    "        for ele in range(len(a)):\n",
    "            if len(a[ele]) == len(b[ele]):\n",
    "                out_matrix.append([])\n",
    "                for sub_ele in range(len(a[ele])):\n",
    "                    out_matrix[ele].append(a[ele][sub_ele]+b[ele][sub_ele])\n",
    "            else:\n",
    "                return 'Both Matrices must contains same noumber of rows and columns'\n",
    "    else:\n",
    "        print('Both Matrices must contains same number of rows and columns')\n",
    "    return out_matrix\n",
    "\n",
    "print(add_mat([[2,3,5],[7,1,2],[5,4,7]],[[4,4,5],[6,5,3],[3,2,5]]) )   \n",
    "print(add_mat([[2,3,5],[7,1,2],[5,47]],[[4,4,5],[6,5,3],[3,2,5]]))"
   ]
  },
  {
   "cell_type": "markdown",
   "id": "9e6c1983",
   "metadata": {},
   "source": [
    "#### 2. Write a Python Program to Multiply two Matrices ?"
   ]
  },
  {
   "cell_type": "code",
   "execution_count": 17,
   "id": "e5c57cb3",
   "metadata": {},
   "outputs": [
    {
     "name": "stdout",
     "output_type": "stream",
     "text": [
      "[[41, 33, 44], [40, 37, 48], [65, 54, 72]]\n"
     ]
    }
   ],
   "source": [
    "def mult_mat(a,b):\n",
    "    output = []\n",
    "    if len(a[0]) == len(b):\n",
    "        for ele in range(len(a[0])):\n",
    "            output.append([0 for ele in range(len(b[0]))])\n",
    "        for i in range(len(a)):\n",
    "            for j in range(len(b[0])):\n",
    "                for k in range(len(b)):\n",
    "                    output[i][j] += a[i][k]*b[k][j]\n",
    "        return output     \n",
    "    else:\n",
    "        return 'Matrix Multiplication is Not Possible'\n",
    "        \n",
    "print(mult_mat([[2,3,5],[7,1,2],[5,4,7]],[[4,4,5],[6,5,3],[3,2,5]]))"
   ]
  },
  {
   "cell_type": "markdown",
   "id": "c2705b7d",
   "metadata": {},
   "source": [
    "#### 3. Write a Python Program to transpose a Matrix ?"
   ]
  },
  {
   "cell_type": "code",
   "execution_count": 21,
   "id": "08afb7ff",
   "metadata": {},
   "outputs": [
    {
     "name": "stdout",
     "output_type": "stream",
     "text": [
      "[[2, 3, 5], [7, 1, 2], [5, 4, 7]] -> [[2, 7, 5], [3, 1, 4], [5, 2, 7]]\n",
      "[[4, 4, 5], [6, 5, 3], [3, 2, 5]] -> [[4, 6, 3], [4, 5, 2], [5, 3, 5]]\n"
     ]
    }
   ],
   "source": [
    "def gen_transpose(in_matrix):\n",
    "    out_matrix = []\n",
    "    for ele in range(len(in_matrix[0])):\n",
    "        out_matrix.append([0 for i in range(len(in_matrix))])\n",
    "    for i in range(len(in_matrix)):\n",
    "        for j in range(len(in_matrix[i])):\n",
    "            out_matrix[j][i] = in_matrix[i][j]\n",
    "    return out_matrix\n",
    "        \n",
    "print(f'{[[2,3,5],[7,1,2],[5,4,7]]} -> {gen_transpose([[2,3,5],[7,1,2],[5,4,7]])}')\n",
    "print(f'{[[4,4,5],[6,5,3],[3,2,5]]} -> {gen_transpose([[4,4,5],[6,5,3],[3,2,5]])}')"
   ]
  },
  {
   "cell_type": "markdown",
   "id": "5b6207c1",
   "metadata": {},
   "source": [
    "#### 4. Write a Python Program to sort Words in an Alphabatical Order ?"
   ]
  },
  {
   "cell_type": "code",
   "execution_count": 15,
   "id": "d6e5de3d",
   "metadata": {},
   "outputs": [
    {
     "name": "stdout",
     "output_type": "stream",
     "text": [
      "Enter a String: Yello World! How are you?\n",
      "Are How World! Yello You?\n"
     ]
    }
   ],
   "source": [
    "def str_sort():\n",
    "    in_string = input(\"Enter a String: \").title()\n",
    "    sorted_list = sorted(in_string.split(' '))\n",
    "    return (' '.join(sorted_list))\n",
    "\n",
    "print(str_sort())"
   ]
  },
  {
   "cell_type": "markdown",
   "id": "eb0e084d",
   "metadata": {},
   "source": [
    "#### 5. Write a Python Program to remove Punctuations From a String ?"
   ]
  },
  {
   "cell_type": "code",
   "execution_count": 22,
   "id": "08c0196d",
   "metadata": {},
   "outputs": [
    {
     "name": "stdout",
     "output_type": "stream",
     "text": [
      "Enter a String: Hi, I'm Yolo. How are you?!\n",
      "Hi Im Yolo How are you\n"
     ]
    }
   ],
   "source": [
    "def rm_punct():\n",
    "    punctuations = '''!()-[]{};:'\"\\,<>./?@#$%^&*_~'''\n",
    "    in_string = input('Enter a String: ')\n",
    "    out_string = ''\n",
    "    for ele in in_string:\n",
    "        if ele not in punctuations:\n",
    "            out_string += ele\n",
    "    return out_string\n",
    "    \n",
    "print(rm_punct())"
   ]
  }
 ],
 "metadata": {
  "kernelspec": {
   "display_name": "Python 3",
   "language": "python",
   "name": "python3"
  },
  "language_info": {
   "codemirror_mode": {
    "name": "ipython",
    "version": 3
   },
   "file_extension": ".py",
   "mimetype": "text/x-python",
   "name": "python",
   "nbconvert_exporter": "python",
   "pygments_lexer": "ipython3",
   "version": "3.8.8"
  }
 },
 "nbformat": 4,
 "nbformat_minor": 5
}
