{
 "cells": [
  {
   "cell_type": "markdown",
   "id": "d0105bec",
   "metadata": {},
   "source": [
    "# Assignment 9 Solutions"
   ]
  },
  {
   "cell_type": "markdown",
   "id": "abd957e6",
   "metadata": {},
   "source": [
    "#### 1.Write a Python Program to check if the given number is a Disarium Number ?"
   ]
  },
  {
   "cell_type": "code",
   "execution_count": null,
   "id": "746fd8cb",
   "metadata": {},
   "outputs": [],
   "source": [
    "def if_disarium():\n",
    "    num = input('Enter a Number: ')\n",
    "    sum = 0\n",
    "    for item in range(len(num)):\n",
    "        sum = sum + int(num[item])**(item+1)\n",
    "    if sum == int(num):\n",
    "        print(f'{num} is a Disarium Number')\n",
    "    else:\n",
    "        print(f'{num} is a Not Disarium Number') \n",
    "\n",
    "if_disarium()\n",
    "if_disarium()"
   ]
  },
  {
   "cell_type": "markdown",
   "id": "f11e7cd5",
   "metadata": {},
   "source": [
    "#### 2.Write a Python Program to print all Disarium numbers between 1 to 100 ?"
   ]
  },
  {
   "cell_type": "code",
   "execution_count": 6,
   "id": "03d9e0f4",
   "metadata": {},
   "outputs": [
    {
     "name": "stdout",
     "output_type": "stream",
     "text": [
      "[1, 2, 3, 4, 5, 6, 7, 8, 9, 89]\n"
     ]
    }
   ],
   "source": [
    "def print_disarium(start=1,end=100):\n",
    "    output = []\n",
    "    for number in range(start,end+1):\n",
    "        sum = 0\n",
    "        for item in range(len(str(number))):\n",
    "            sum = sum + int(str(number)[item])**(item+1)\n",
    "        if sum == number:\n",
    "            output.append(number)\n",
    "    print(output)\n",
    "            \n",
    "        \n",
    "print_disarium(1,100)"
   ]
  },
  {
   "cell_type": "markdown",
   "id": "a3f58a68",
   "metadata": {},
   "source": [
    "#### 3.Write a Python Program to check if the given number is Happy Number ?"
   ]
  },
  {
   "cell_type": "code",
   "execution_count": 8,
   "id": "28d42beb",
   "metadata": {},
   "outputs": [
    {
     "name": "stdout",
     "output_type": "stream",
     "text": [
      "Enter a Number: 69\n",
      "69 is not a Happy Number\n",
      "Enter a Number: 7\n",
      "7 is a Happy Number\n"
     ]
    }
   ],
   "source": [
    "def if_happy():\n",
    "    num = input('Enter a Number: ')\n",
    "    num_duplicate = num\n",
    "    trackNumber = set()   \n",
    "    while True:\n",
    "        if num != '1' and str(num) not in trackNumber:\n",
    "            trackNumber.add(num)\n",
    "            sum = 0\n",
    "            for ele in range(len((num))):\n",
    "                sum = sum + int(num[ele])**2\n",
    "            num = str(sum)\n",
    "        elif str(num) in trackNumber:\n",
    "            print(f'{num_duplicate} is not a Happy Number')\n",
    "            break\n",
    "        else:\n",
    "            print(f'{num_duplicate} is a Happy Number')\n",
    "            break\n",
    "\n",
    "if_happy()\n",
    "if_happy()"
   ]
  },
  {
   "cell_type": "markdown",
   "id": "4c5027f6",
   "metadata": {},
   "source": [
    "#### 4.Write a Python Program to print all Happy numbers between 1 and 100 ?"
   ]
  },
  {
   "cell_type": "code",
   "execution_count": 9,
   "id": "a578ab2a",
   "metadata": {},
   "outputs": [
    {
     "name": "stdout",
     "output_type": "stream",
     "text": [
      "The Happy Numbers between 1 and 100 are: [1, 7, 10, 13, 19, 23, 28, 31, 32, 44, 49, 68, 70, 79, 82, 86, 91, 94, 97, 100]\n"
     ]
    }
   ],
   "source": [
    "def print_happy(start=1,end=100):\n",
    "    happy_num = []\n",
    "    for in_num in range(start,end+1):\n",
    "        in_num = str(in_num)\n",
    "        inum_holder = in_num\n",
    "        trackNumber = set()   \n",
    "        while True:\n",
    "            if in_num != '1' and str(in_num) not in trackNumber:\n",
    "                trackNumber.add(in_num)\n",
    "                sum = 0\n",
    "                for ele in range(len((in_num))):\n",
    "                    sum = sum + int(in_num[ele])**2\n",
    "                in_num = str(sum)\n",
    "            elif str(in_num) in trackNumber:\n",
    "                break\n",
    "            else:\n",
    "                happy_num.append(int(inum_holder))\n",
    "                break\n",
    "    print(f'The Happy Numbers between {start} and {end} are: {happy_num}')\n",
    "    \n",
    "print_happy(1,100)"
   ]
  },
  {
   "cell_type": "markdown",
   "id": "ed74970d",
   "metadata": {},
   "source": [
    "#### 5.Write a Python Program to determine whether the given number is a Harshad Number ?"
   ]
  },
  {
   "cell_type": "code",
   "execution_count": 12,
   "id": "c2459d31",
   "metadata": {},
   "outputs": [
    {
     "name": "stdout",
     "output_type": "stream",
     "text": [
      "Enter a Number: 20\n",
      "20 is a Harshad Number\n",
      "Enter a Number: 69\n",
      "69 is a Not Harshad Number\n"
     ]
    }
   ],
   "source": [
    "def if_harshad():\n",
    "    num = input('Enter a Number: ')\n",
    "    sum = 0\n",
    "    for item in range(len(num)):\n",
    "        sum = sum + int(num[item])\n",
    "    if int(num)%sum == 0:\n",
    "        print(f'{num} is a Harshad Number')\n",
    "    else:\n",
    "        print(f'{num} is a Not Harshad Number')\n",
    "        \n",
    "if_harshad()\n",
    "if_harshad()"
   ]
  },
  {
   "cell_type": "markdown",
   "id": "142b8027",
   "metadata": {},
   "source": [
    "#### 6.Write a Python Program to print all pronic numbers between 1 and 100 ?"
   ]
  },
  {
   "cell_type": "code",
   "execution_count": 18,
   "id": "dc0b22c6",
   "metadata": {},
   "outputs": [
    {
     "name": "stdout",
     "output_type": "stream",
     "text": [
      "[2, 6, 12, 20, 30, 42, 56, 72, 90]\n"
     ]
    }
   ],
   "source": [
    "def print_pronic(start=1,end=100):\n",
    "    output = []\n",
    "    for ele in range(start,end+1):\n",
    "        result = (ele)*(ele+1)\n",
    "        if result<=100:\n",
    "            output.append(result)\n",
    "    print(output)\n",
    "                   \n",
    "print_pronic()"
   ]
  }
 ],
 "metadata": {
  "kernelspec": {
   "display_name": "Python 3",
   "language": "python",
   "name": "python3"
  },
  "language_info": {
   "codemirror_mode": {
    "name": "ipython",
    "version": 3
   },
   "file_extension": ".py",
   "mimetype": "text/x-python",
   "name": "python",
   "nbconvert_exporter": "python",
   "pygments_lexer": "ipython3",
   "version": "3.8.8"
  }
 },
 "nbformat": 4,
 "nbformat_minor": 5
}
