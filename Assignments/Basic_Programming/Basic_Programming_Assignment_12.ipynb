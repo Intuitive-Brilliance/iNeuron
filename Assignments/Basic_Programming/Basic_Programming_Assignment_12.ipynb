{
 "cells": [
  {
   "cell_type": "markdown",
   "id": "b1d78136",
   "metadata": {},
   "source": [
    "# Assignment - 12 Solution"
   ]
  },
  {
   "cell_type": "markdown",
   "id": "47588382",
   "metadata": {},
   "source": [
    "#### 1.Write a Python program to Extract Unique values dictionary values?"
   ]
  },
  {
   "cell_type": "code",
   "execution_count": 4,
   "id": "8cfece02",
   "metadata": {},
   "outputs": [
    {
     "name": "stdout",
     "output_type": "stream",
     "text": [
      "['Washington D.C.', 'Paris', 'New Delhi']\n"
     ]
    }
   ],
   "source": [
    "def get_unique(dictionary):\n",
    "    return list(set(dictionary.values()))\n",
    "\n",
    "print(get_unique({\"USA\":\"Washington D.C.\", \"France\":\"Paris\", \"India\":\"New Delhi\", \"Asia\":\"New Delhi\", \"America\":\"Washington D.C.\"}))"
   ]
  },
  {
   "cell_type": "markdown",
   "id": "3cfcbbc9",
   "metadata": {},
   "source": [
    "#### 2.Write a Python program to find the sum of all items in a dictionary?"
   ]
  },
  {
   "cell_type": "code",
   "execution_count": 6,
   "id": "33738c60",
   "metadata": {},
   "outputs": [
    {
     "name": "stdout",
     "output_type": "stream",
     "text": [
      "300\n"
     ]
    }
   ],
   "source": [
    "def sum_dict(dictionary):\n",
    "    return sum(dictionary.values())\n",
    "print(sum_dict({'Samsung':10,'Apple':20,'Huwawei':30,'Micromax':40,'Blueberry':200}))"
   ]
  },
  {
   "cell_type": "markdown",
   "id": "5e26e96b",
   "metadata": {},
   "source": [
    "#### 3.Write a Python program to Merging two Dictionaries?"
   ]
  },
  {
   "cell_type": "code",
   "execution_count": 12,
   "id": "059056dd",
   "metadata": {},
   "outputs": [
    {
     "name": "stdout",
     "output_type": "stream",
     "text": [
      "{'Samsung': 10, 'Apple': 20, 'Huwawei': 30, 'Micromax': 40, 'Blueberry': 200, 'USA': 'Washington D.C.', 'France': 'Paris', 'India': 'New Delhi'}\n"
     ]
    }
   ],
   "source": [
    "def merge_dict(d1,d2):\n",
    "    d1.update(d2)\n",
    "    return d1\n",
    "\n",
    "d1 = {'Samsung':10,'Apple':20,'Huwawei':30,'Micromax':40,'Blueberry':200}\n",
    "d2 = {\"USA\":\"Washington D.C.\", \"France\":\"Paris\", \"India\":\"New Delhi\"}\n",
    "\n",
    "print(merge_dict(d1,d2))"
   ]
  },
  {
   "cell_type": "markdown",
   "id": "ea32cefe",
   "metadata": {},
   "source": [
    "#### 4.Write a Python program to convert key-values list to flat dictionary?"
   ]
  },
  {
   "cell_type": "code",
   "execution_count": 14,
   "id": "55139b2d",
   "metadata": {},
   "outputs": [
    {
     "name": "stdout",
     "output_type": "stream",
     "text": [
      "{1: 'sravan', 2: 'ojaswi', 3: 'bobby', 4: 'rohith', 5: 'gnanesh'}\n"
     ]
    }
   ],
   "source": [
    "def to_dict(l):\n",
    "    return dict(l)\n",
    "\n",
    "l = [(1, 'sravan'), (2, 'ojaswi'), (3, 'bobby'),\n",
    "        (4, 'rohith'), (5, 'gnanesh')]\n",
    "\n",
    "print(to_dict(l))"
   ]
  },
  {
   "cell_type": "markdown",
   "id": "e945b1cf",
   "metadata": {},
   "source": [
    "#### 5.Write a Python program to insertion at the beginning in OrderedDict?"
   ]
  },
  {
   "cell_type": "code",
   "execution_count": 21,
   "id": "b28845f5",
   "metadata": {},
   "outputs": [
    {
     "name": "stdout",
     "output_type": "stream",
     "text": [
      "Original: OrderedDict([('Samsung', 10), ('Apple', 20), ('Huwawei', 30), ('Micromax', 40), ('Blueberry', 200)])\n",
      "Updated: OrderedDict([('USA', 'Washington D.C.'), ('Samsung', 10), ('Apple', 20), ('Huwawei', 30), ('Micromax', 40), ('Blueberry', 200)])\n"
     ]
    }
   ],
   "source": [
    "from collections import OrderedDict\n",
    "def put_first(d, kv):\n",
    "    d.update(kv)\n",
    "    d.move_to_end(list(kv.keys())[0], last=False)\n",
    "    return d\n",
    "d = OrderedDict({'Samsung':10,'Apple':20,'Huwawei':30,'Micromax':40,'Blueberry':200})\n",
    "kv = {\"USA\":\"Washington D.C.\"}\n",
    "print(f'Original: {d}\\nUpdated: {put_first(d, kv)}')"
   ]
  },
  {
   "cell_type": "markdown",
   "id": "a67da729",
   "metadata": {},
   "source": [
    "#### 6.Write a Python program to check order of character in string using OrderedDict()?"
   ]
  },
  {
   "cell_type": "code",
   "execution_count": 23,
   "id": "cc023a52",
   "metadata": {},
   "outputs": [
    {
     "name": "stdout",
     "output_type": "stream",
     "text": [
      "OrderedDict([('a', 1000), ('b', 500), ('c', 400), ('d', 300), ('e', 600), ('f', 200)])\n"
     ]
    }
   ],
   "source": [
    "from collections import OrderedDict\n",
    "\n",
    "def check_order(d):\n",
    "    return OrderedDict(dict(sorted(d.items())))\n",
    "\n",
    "d = {'a': 1000, 'f': 200, 'd': 300, 'c': 400, 'b': 500, 'e': 600}\n",
    "print(check_order(d))"
   ]
  },
  {
   "cell_type": "markdown",
   "id": "00e77a00",
   "metadata": {},
   "source": [
    "#### 7.Write a Python program to sort Python Dictionaries by Key or Value?"
   ]
  },
  {
   "cell_type": "code",
   "execution_count": 25,
   "id": "799ba84a",
   "metadata": {},
   "outputs": [
    {
     "name": "stdout",
     "output_type": "stream",
     "text": [
      "{'Apple': 20, 'Blueberry': 200, 'Huwawei': 30, 'Micromax': 40, 'Samsung': 10}\n",
      "{'Samsung': 10, 'Apple': 20, 'Huwawei': 30, 'Micromax': 40, 'Blueberry': 200}\n"
     ]
    }
   ],
   "source": [
    "def sort_dict(in_dict,sort_type):\n",
    "    if sort_type == 'key':\n",
    "        print(dict(sorted(in_dict.items(), key=lambda x:x[0], reverse=False)))\n",
    "    else:\n",
    "        print(dict(sorted(in_dict.items(), key=lambda x:x[1], reverse=False)))\n",
    "        \n",
    "d_items = {'Samsung':10,'Apple':20,'Huwawei':30,'Micromax':40,'Blueberry':200} \n",
    "\n",
    "sort_dict(d_items,'key')        \n",
    "sort_dict(d_items,'value')"
   ]
  }
 ],
 "metadata": {
  "kernelspec": {
   "display_name": "Python 3",
   "language": "python",
   "name": "python3"
  },
  "language_info": {
   "codemirror_mode": {
    "name": "ipython",
    "version": 3
   },
   "file_extension": ".py",
   "mimetype": "text/x-python",
   "name": "python",
   "nbconvert_exporter": "python",
   "pygments_lexer": "ipython3",
   "version": "3.8.8"
  }
 },
 "nbformat": 4,
 "nbformat_minor": 5
}
