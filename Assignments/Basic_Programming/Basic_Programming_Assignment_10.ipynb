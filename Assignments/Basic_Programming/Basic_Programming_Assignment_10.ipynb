{
 "cells": [
  {
   "cell_type": "markdown",
   "id": "0753e292",
   "metadata": {},
   "source": [
    "# Assignment 10 Solutions"
   ]
  },
  {
   "cell_type": "markdown",
   "id": "d6f96d38",
   "metadata": {},
   "source": [
    "#### 1.Write a Python Program to find sum of elements in a list ?"
   ]
  },
  {
   "cell_type": "code",
   "execution_count": 1,
   "id": "1fbea5b2",
   "metadata": {},
   "outputs": [
    {
     "name": "stdout",
     "output_type": "stream",
     "text": [
      "Enter the Array: 5,6,7,7\n",
      "The sum of (5, 6, 7, 7) is 25\n"
     ]
    }
   ],
   "source": [
    "def sum_arr():\n",
    "    arr = eval(input(\"Enter the Array: \"))\n",
    "    sum =0\n",
    "    for ele in arr:\n",
    "        sum+=ele\n",
    "    print(f'The sum of {arr} is {sum}')\n",
    "\n",
    "sum_arr()"
   ]
  },
  {
   "cell_type": "markdown",
   "id": "35ff9c7c",
   "metadata": {},
   "source": [
    "#### 2.Write a Python Program to multiply all numbers in the list ?"
   ]
  },
  {
   "cell_type": "code",
   "execution_count": 2,
   "id": "d77e77e6",
   "metadata": {},
   "outputs": [
    {
     "name": "stdout",
     "output_type": "stream",
     "text": [
      "Enter the Array: 1,2,3\n",
      "6\n"
     ]
    }
   ],
   "source": [
    "def mul_arr():\n",
    "    arr = eval(input(\"Enter the Array: \"))\n",
    "    mul = 1\n",
    "    for ele in arr:\n",
    "        mul = mul * ele\n",
    "    print(mul)\n",
    "\n",
    "mul_arr()"
   ]
  },
  {
   "cell_type": "markdown",
   "id": "0561967b",
   "metadata": {},
   "source": [
    "#### 3.Write a Python Program to find smallest number in the list ?"
   ]
  },
  {
   "cell_type": "code",
   "execution_count": 3,
   "id": "3e9863eb",
   "metadata": {},
   "outputs": [
    {
     "name": "stdout",
     "output_type": "stream",
     "text": [
      "Enter the Array: 5,6,7,100\n",
      "The Largest Element in (5, 6, 7, 100) is 5\n"
     ]
    }
   ],
   "source": [
    "def smallest():\n",
    "    arr = eval(input(\"Enter the Array: \"))\n",
    "    print(f\"The Largest Element in {arr} is {sorted(arr, reverse=True)[-1]}\")\n",
    "    \n",
    "smallest()"
   ]
  },
  {
   "cell_type": "markdown",
   "id": "0684d2e6",
   "metadata": {},
   "source": [
    "#### 4.Write a Python Program to find largest number in the list ?"
   ]
  },
  {
   "cell_type": "code",
   "execution_count": 4,
   "id": "c1984a1c",
   "metadata": {},
   "outputs": [
    {
     "name": "stdout",
     "output_type": "stream",
     "text": [
      "Enter the Array: 10,20,999999,-5,10\n",
      "The Largest Element in (10, 20, 999999, -5, 10) is 999999\n"
     ]
    }
   ],
   "source": [
    "def largest():\n",
    "    arr = eval(input(\"Enter the Array: \"))\n",
    "    print(f\"The Largest Element in {arr} is {sorted(arr, reverse=True)[0]}\")\n",
    "    \n",
    "largest()"
   ]
  },
  {
   "cell_type": "markdown",
   "id": "ef882ac4",
   "metadata": {},
   "source": [
    "#### 5.Write a Python Program to find second largest number in the list ?"
   ]
  },
  {
   "cell_type": "code",
   "execution_count": 9,
   "id": "ca2c5e29",
   "metadata": {},
   "outputs": [
    {
     "name": "stdout",
     "output_type": "stream",
     "text": [
      "Enter the Array: 10,20,-5,6,69,420\n",
      "The Largest Element in (10, 20, -5, 6, 69, 420) is 69\n"
     ]
    }
   ],
   "source": [
    "def pen_largest():\n",
    "    arr = eval(input(\"Enter the Array: \"))\n",
    "    print(f\"The Largest Element in {arr} is {sorted(arr, reverse=True)[1]}\")\n",
    "    \n",
    "pen_largest()"
   ]
  },
  {
   "cell_type": "markdown",
   "id": "ee185d52",
   "metadata": {},
   "source": [
    "#### 6.Write a Python Program to find N largest elements in the list ?"
   ]
  },
  {
   "cell_type": "code",
   "execution_count": 7,
   "id": "e2c518fa",
   "metadata": {},
   "outputs": [
    {
     "name": "stdout",
     "output_type": "stream",
     "text": [
      "Enter the Array: 10,20,5,-1,50,100,96\n",
      "The 3 Largest Element in (10, 20, 5, -1, 50, 100, 96) is [100, 96, 50]\n"
     ]
    }
   ],
   "source": [
    "def n_largest(k):\n",
    "    arr = eval(input(\"Enter the Array: \"))\n",
    "    print(f'The {k} Largest Element in {arr} is {sorted(arr, reverse=True)[0:k]}')\n",
    "\n",
    "n_largest(3)"
   ]
  },
  {
   "cell_type": "markdown",
   "id": "7f5a2b91",
   "metadata": {},
   "source": [
    "#### 7.Write a Python Program to find even numbers in the list ?"
   ]
  },
  {
   "cell_type": "code",
   "execution_count": 10,
   "id": "e9b0d19a",
   "metadata": {},
   "outputs": [
    {
     "name": "stdout",
     "output_type": "stream",
     "text": [
      "Enter the Array: 10,20,30,69,420\n",
      "The Even Elements in (10, 20, 30, 69, 420) are [10, 20, 30, 420]\n"
     ]
    }
   ],
   "source": [
    "def is_even():\n",
    "    arr = eval(input(\"Enter the Array: \"))\n",
    "    output= list()\n",
    "    for ele in arr:\n",
    "        if ele%2 == 0:\n",
    "            output.append(ele)\n",
    "    print(f'The Even Elements in {(arr)} are {output}')\n",
    "\n",
    "is_even()"
   ]
  },
  {
   "cell_type": "markdown",
   "id": "a5d3f862",
   "metadata": {},
   "source": [
    "#### 8.Write a Python Program to find odd numbers in the list ?"
   ]
  },
  {
   "cell_type": "code",
   "execution_count": 11,
   "id": "101d0718",
   "metadata": {},
   "outputs": [
    {
     "name": "stdout",
     "output_type": "stream",
     "text": [
      "Enter the Array: 10,15,17,19,69,420,1024\n",
      "The Even Elements in (10, 15, 17, 19, 69, 420, 1024) are [15, 17, 19, 69]\n"
     ]
    }
   ],
   "source": [
    "def is_odd():\n",
    "    arr = eval(input(\"Enter the Array: \"))\n",
    "    output= list()\n",
    "    for ele in arr:\n",
    "        if ele%2 != 0:\n",
    "            output.append(ele)\n",
    "    print(f'The Even Elements in {(arr)} are {output}')\n",
    "\n",
    "is_odd()"
   ]
  },
  {
   "cell_type": "markdown",
   "id": "f97fa7ea",
   "metadata": {},
   "source": [
    "#### 9.Write a Python Program to remove empty list from list ?"
   ]
  },
  {
   "cell_type": "code",
   "execution_count": 15,
   "id": "193a2ef1",
   "metadata": {},
   "outputs": [
    {
     "name": "stdout",
     "output_type": "stream",
     "text": [
      "Enter the Array: 5,10,15,[5,6,7],[],67,[],[6,7,8],5,10,15,[5,6,7],[],67,[],[6,7,8],5,10,15,[5,6,7],[],67,[],[6,7,8]\n",
      "[5, 10, 15, [5, 6, 7], 67, [6, 7, 8], 5, 10, 15, [5, 6, 7], 67, [6, 7, 8], 5, 10, 15, [5, 6, 7], 67, [6, 7, 8]]\n"
     ]
    }
   ],
   "source": [
    "def rm_empty():\n",
    "    arr = eval(input(\"Enter the Array: \"))\n",
    "    arr = list(arr)\n",
    "    while [] in arr:\n",
    "        arr.remove([])\n",
    "    return arr\n",
    "        \n",
    "print(rm_empty())"
   ]
  },
  {
   "cell_type": "markdown",
   "id": "1a5b1f91",
   "metadata": {},
   "source": [
    "#### 10.Write a Python Program to Cloning or Copying a list ?"
   ]
  },
  {
   "cell_type": "code",
   "execution_count": 17,
   "id": "55882ca5",
   "metadata": {},
   "outputs": [
    {
     "name": "stdout",
     "output_type": "stream",
     "text": [
      "Enter a list10,20,-5,69,203,1000\n",
      "[10, 20, -5, 69, 203, 1000] 2545188444288\n",
      "[10, 20, -5, 69, 203, 1000] 2545188433344\n"
     ]
    }
   ],
   "source": [
    "import copy\n",
    "\n",
    "def cp_arr():\n",
    "    arr = eval(input('Enter a list'))\n",
    "    arr = list(arr)\n",
    "    print(arr, id(arr))\n",
    "    cp_list = arr.copy()\n",
    "    print(cp_list, id(cp_list))\n",
    "\n",
    "cp_arr()"
   ]
  },
  {
   "cell_type": "markdown",
   "id": "37e5e6bd",
   "metadata": {},
   "source": [
    "#### 11.Write a Python Program to count occurences of an element in a list ?"
   ]
  },
  {
   "cell_type": "code",
   "execution_count": 31,
   "id": "8a5e7b52",
   "metadata": {},
   "outputs": [
    {
     "name": "stdout",
     "output_type": "stream",
     "text": [
      "Enter a list: 1,2,3,5,5,7,7,10,9,'hi',1,1,20,20,3,5,500\n",
      "{1: 3, 2: 1, 3: 2, 5: 3, 7: 2, 10: 1, 9: 1, 'hi': 1, 20: 2, 500: 1}\n"
     ]
    }
   ],
   "source": [
    "def counter():\n",
    "    arr = eval(input('Enter a list: '))\n",
    "    counter = dict()\n",
    "    for ele in arr:\n",
    "        counter[ele] = counter.setdefault(ele,0)+1\n",
    "    return counter\n",
    "    \n",
    "print(counter())"
   ]
  }
 ],
 "metadata": {
  "kernelspec": {
   "display_name": "Python 3",
   "language": "python",
   "name": "python3"
  },
  "language_info": {
   "codemirror_mode": {
    "name": "ipython",
    "version": 3
   },
   "file_extension": ".py",
   "mimetype": "text/x-python",
   "name": "python",
   "nbconvert_exporter": "python",
   "pygments_lexer": "ipython3",
   "version": "3.8.8"
  }
 },
 "nbformat": 4,
 "nbformat_minor": 5
}
