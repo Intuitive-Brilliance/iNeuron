{
 "cells": [
  {
   "cell_type": "markdown",
   "id": "e9523fbb",
   "metadata": {},
   "source": [
    "# Assignment - 11 Solution"
   ]
  },
  {
   "cell_type": "markdown",
   "id": "267b6b8f",
   "metadata": {},
   "source": [
    "#### 1. Write a Python program to find words which are greater than given length k ?"
   ]
  },
  {
   "cell_type": "code",
   "execution_count": 2,
   "id": "d3ec10f6",
   "metadata": {},
   "outputs": [
    {
     "name": "stdout",
     "output_type": "stream",
     "text": [
      "Enter a sentence: Write a Python program to find words which are greater than given length k ?\n",
      "['Python', 'program', 'greater', 'length']\n"
     ]
    }
   ],
   "source": [
    "def if_greater(k):\n",
    "    string = input('Enter a sentence: ')\n",
    "    lst_strs = string.split(' ')\n",
    "    output= list()\n",
    "    for string in lst_strs:\n",
    "        if len(string)>k:\n",
    "            output.append(string)\n",
    "    return output\n",
    "            \n",
    "        \n",
    "\n",
    "print(if_greater(5))"
   ]
  },
  {
   "cell_type": "markdown",
   "id": "3711485d",
   "metadata": {},
   "source": [
    "#### 2. Write a Python program for removing i-th character from a string ?"
   ]
  },
  {
   "cell_type": "code",
   "execution_count": 3,
   "id": "f7fccd01",
   "metadata": {},
   "outputs": [
    {
     "name": "stdout",
     "output_type": "stream",
     "text": [
      "Enter the String: 123456\n",
      "12346\n"
     ]
    }
   ],
   "source": [
    "def rm_char(i):\n",
    "    string = input(\"Enter the String: \")\n",
    "    output = ''\n",
    "    for ele in range(len(string)):\n",
    "        if ele != i-1:\n",
    "            output = output + string[ele]\n",
    "    return output\n",
    "    \n",
    "print(rm_char(5))"
   ]
  },
  {
   "cell_type": "markdown",
   "id": "845ba790",
   "metadata": {},
   "source": [
    "#### 3. Write a Python program to split and join a string ?"
   ]
  },
  {
   "cell_type": "code",
   "execution_count": 4,
   "id": "fd82df54",
   "metadata": {},
   "outputs": [
    {
     "name": "stdout",
     "output_type": "stream",
     "text": [
      "Enter the string: Write a Python program to split and join a string ?\n",
      "Split String: ['Write', 'a', 'Python', 'program', 'to', 'split', 'and', 'join', 'a', 'string', '?']\n",
      "Join String: Write a Python program to split and join a string ?\n"
     ]
    }
   ],
   "source": [
    "def split_join_str():\n",
    "    in_string = input('Enter the string: ')\n",
    "    print(f\"Split String: {in_string.split(' ')}\")\n",
    "    print(f\"Join String: {' '.join(in_string.split(' '))}\")\n",
    "\n",
    "split_join_str()"
   ]
  },
  {
   "cell_type": "markdown",
   "id": "ee642cdf",
   "metadata": {},
   "source": [
    "#### 4. Write a Python to check if a given string is binary string or not ?"
   ]
  },
  {
   "cell_type": "code",
   "execution_count": 5,
   "id": "6d04b29e",
   "metadata": {},
   "outputs": [
    {
     "name": "stdout",
     "output_type": "stream",
     "text": [
      "Enter the string: 10111001100011\n",
      "Binary string\n",
      "Enter the string: 10110110119011\n",
      "Not a binary string\n"
     ]
    }
   ],
   "source": [
    "def if_binary():\n",
    "    string = input('Enter the string: ')\n",
    "    result = False\n",
    "    for ele in string:\n",
    "        if ele in ['0','1']:\n",
    "            result = True\n",
    "            continue\n",
    "        else:\n",
    "            result = False\n",
    "            break\n",
    "    return result\n",
    "\n",
    "answer = 'Binary string' if if_binary() else 'Not a binary string' \n",
    "print(f'{answer}')\n",
    "\n",
    "answer = 'Binary string' if if_binary() else 'Not a binary string' \n",
    "print(f'{answer}')"
   ]
  },
  {
   "cell_type": "markdown",
   "id": "d22e2622",
   "metadata": {},
   "source": [
    "#### 5. Write a Python program to find uncommon words from two Strings ?"
   ]
  },
  {
   "cell_type": "code",
   "execution_count": 8,
   "id": "be223e06",
   "metadata": {},
   "outputs": [
    {
     "name": "stdout",
     "output_type": "stream",
     "text": [
      "Enter the String 1: Write a Python program to find uncommon words from two Strings\n",
      "Enter the String 2: Write a Python to find all duplicate characters in string\n",
      "{'characters', 'Strings', 'words', 'two', 'in', 'duplicate', 'all', 'from', 'string', 'program', 'uncommon'}\n"
     ]
    }
   ],
   "source": [
    "def find_uncommon():\n",
    "    string_1 = set(input(\"Enter the String 1: \").split(' '))\n",
    "    string_2 = set(input(\"Enter the String 2: \").split(' '))\n",
    "    out_string = (string_1.union(string_2)).difference(string_1.intersection(string_2))\n",
    "    return out_string\n",
    "\n",
    "print(find_uncommon())"
   ]
  },
  {
   "cell_type": "markdown",
   "id": "a077bda5",
   "metadata": {},
   "source": [
    "#### 6. Write a Python to find all duplicate characters in string ?"
   ]
  },
  {
   "cell_type": "code",
   "execution_count": 10,
   "id": "6116a494",
   "metadata": {},
   "outputs": [
    {
     "name": "stdout",
     "output_type": "stream",
     "text": [
      "Enter the string: Write a Python to find all duplicate characters in string ?\n",
      "[' ', 't', 'o', 'i', 'n', 'a', 'l', 'd', 'e', 'c', 'h', 'r', 's']\n"
     ]
    }
   ],
   "source": [
    "def find_duplicate():\n",
    "    string = input('Enter the string: ')\n",
    "    non_duplicate_list = []\n",
    "    duplicate_list = []\n",
    "    for ele in string:\n",
    "        if ele not in non_duplicate_list:\n",
    "            non_duplicate_list.append(ele)\n",
    "        else:\n",
    "            if ele not in duplicate_list:\n",
    "                duplicate_list.append(ele)\n",
    "    return duplicate_list\n",
    "        \n",
    "print(find_duplicate())"
   ]
  },
  {
   "cell_type": "markdown",
   "id": "e14912b1",
   "metadata": {},
   "source": [
    "#### 7. Write a Python Program to check if a string contains any special character?"
   ]
  },
  {
   "cell_type": "code",
   "execution_count": 12,
   "id": "b51b221d",
   "metadata": {},
   "outputs": [
    {
     "name": "stdout",
     "output_type": "stream",
     "text": [
      "Enter the string: Write a Python Program to check if a string contains any special character?\n",
      "There are 1 speical characters in \"Write a Python Program to check if a string contains any special character?\" which are ['?']\n"
     ]
    }
   ],
   "source": [
    "def is_specialchar():\n",
    "    spl_chars = '[@_!#$%^&*()<>?/\\|}{~:]'\n",
    "    string = input('Enter the string: ')\n",
    "    count = 0\n",
    "    char_list = []\n",
    "    for ele in string:\n",
    "        if ele in spl_chars:\n",
    "            char_list.append(ele)\n",
    "            count = count+1\n",
    "    print(f'There are {count} speical characters in \"{string}\" which are {char_list}')\n",
    "            \n",
    "        \n",
    "is_specialchar()"
   ]
  }
 ],
 "metadata": {
  "kernelspec": {
   "display_name": "Python 3",
   "language": "python",
   "name": "python3"
  },
  "language_info": {
   "codemirror_mode": {
    "name": "ipython",
    "version": 3
   },
   "file_extension": ".py",
   "mimetype": "text/x-python",
   "name": "python",
   "nbconvert_exporter": "python",
   "pygments_lexer": "ipython3",
   "version": "3.8.8"
  }
 },
 "nbformat": 4,
 "nbformat_minor": 5
}
