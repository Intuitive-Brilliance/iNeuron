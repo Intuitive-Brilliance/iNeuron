{
 "cells": [
  {
   "cell_type": "markdown",
   "id": "f539b01e",
   "metadata": {},
   "source": [
    "# Assignment - 1 Solution"
   ]
  },
  {
   "cell_type": "markdown",
   "id": "942401c5",
   "metadata": {},
   "source": [
    "#### Q1. What is the purpose of Python's OOP?\n",
    "**Ans:** <br>\n",
    "Object-oriented programming is a programming paradigm that provides a means of structuring programs so that properties and behaviors are bundled into individual objects providing us with the following features and beneits:\n",
    "1. Modularity in the organization and functioning of an application.\n",
    "2. It helps to divide our over all program into different small segments\n",
    "3. This makes the program easy to debug and increases reusability.\n",
    "4. In turn, this helps in easy maintenance and modification of existing program\n",
    "5. In addition, it also allows us to scale the application.\n",
    "\n",
    "<br>In Python, object-oriented Programming (OOPs) uses objects and classes in programming. \n",
    "<br>It aims to implement real-world entities like inheritance, polymorphisms, encapsulation, etc. in the programming.\n",
    "<br>The main concept of OOPs is to bind the data and the functions that work on that together as a single unit so that no other part of the code can access this data. "
   ]
  },
  {
   "cell_type": "markdown",
   "id": "7cfcf3e9",
   "metadata": {},
   "source": [
    "#### Q2. Where does an inheritance search look for an attribute?\n",
    "**Ans:** \n",
    "<br>Python searches for an attribute in an upward tree of attributes. \n",
    "<br>It first searches for the attribute in its instance and then looks in the class it is generated from, to all super classes listed in its class header"
   ]
  },
  {
   "cell_type": "markdown",
   "id": "096d7b0b",
   "metadata": {},
   "source": [
    "#### Q3. How do you distinguish between a class object and an instance object?\n",
    "**Ans:** <br>\n",
    "1. Class is a template for creating objects whereas object is an instance of class\n",
    "2. Seperate memory is allocated for each object whenever an object is created.\n",
    "3. This however, ins't the case for objects.\n",
    "4. A Class is created once. \n",
    "5. Many objects can be created using a class.\n",
    "6. As Classes have no allocated memory, they can't be manipulated. \n",
    "7. Objects on the other hand can be manipulated."
   ]
  },
  {
   "cell_type": "markdown",
   "id": "fd8cc6bc",
   "metadata": {},
   "source": [
    "#### Q4. What makes the first argument in a class’s method function special?\n",
    "**Ans:**<br>**`self`** is the first argument for instance methods. which refers to the object itself\n",
    "<br>By using the “self” we can access the attributes and methods of the class in python. \n",
    "<br>It binds the attributes with the given arguments."
   ]
  },
  {
   "cell_type": "markdown",
   "id": "94de0426",
   "metadata": {},
   "source": [
    "#### Q5. What is the purpose of the __init__ method?\n",
    "**Ans:** \n",
    "<br>**`__init__`** is a reserved method in python classes. \n",
    "<br>It serves the role of a **constructor** in object oriented terminology. \n",
    "<br>This method is called when an object is created from a class and it allows the class to initialize the attributes of said class."
   ]
  },
  {
   "cell_type": "markdown",
   "id": "3e47943f",
   "metadata": {},
   "source": [
    "#### Q6. What is the process for creating a class instance?\n",
    "**Ans:** \n",
    "<br>To create a class instance, we need to call the class by its name and pass the arguments to the class, which its **`__init__`** method accepts.\n",
    "\n",
    "<br>**Example:** **`time_1 = Time(2,30)`** Here `time_1` is an instance of class `Time` with attributes 2=hours and 30=minutes."
   ]
  },
  {
   "cell_type": "markdown",
   "id": "8ddf33a9",
   "metadata": {},
   "source": [
    "#### Q7. What is the process for creating a class?\n",
    "**Ans:** \n",
    "<br>**`class`** keyword is used to created a class in python. \n",
    "<br>The syntax to create a class in python is **`class <classname>:`**\n",
    "\n",
    "**Example:** **`class Time:`**  ➞  this creates a class called Time"
   ]
  },
  {
   "cell_type": "markdown",
   "id": "b58c55d6",
   "metadata": {},
   "source": [
    "#### Q8. How would you define the superclasses of a class?\n",
    "**Ans** <br>Superclass/Parent class is given as a arugment to the child class\n",
    "\n",
    "**Example:** `class Time(Year):` Here child class `Time` inherits attributes and methods from Superclass/Parent `Year`"
   ]
  }
 ],
 "metadata": {
  "kernelspec": {
   "display_name": "Python 3",
   "language": "python",
   "name": "python3"
  },
  "language_info": {
   "codemirror_mode": {
    "name": "ipython",
    "version": 3
   },
   "file_extension": ".py",
   "mimetype": "text/x-python",
   "name": "python",
   "nbconvert_exporter": "python",
   "pygments_lexer": "ipython3",
   "version": "3.8.8"
  }
 },
 "nbformat": 4,
 "nbformat_minor": 5
}
