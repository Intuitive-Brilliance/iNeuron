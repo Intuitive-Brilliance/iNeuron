{
 "cells": [
  {
   "cell_type": "markdown",
   "id": "bf5409c0",
   "metadata": {},
   "source": [
    "# Assignment - 13 Solution"
   ]
  },
  {
   "cell_type": "markdown",
   "id": "e73a2da3",
   "metadata": {},
   "source": [
    "#### 1.Write a program that calculates and prints the value according to the given formula:\n",
    "`Q = Square root of [(2 * C * D)/H]`  \n",
    "Following are the fixed values of C and H:  \n",
    "C is 50. H is 30.  \n",
    "D is the variable whose values should be input to your program in a comma-separated sequence.  \n",
    "**Example:** Let us assume the following comma separated input sequence is given to the program:`100,150,180`  \n",
    "The output of the program should be:  `18,22,24`    "
   ]
  },
  {
   "cell_type": "code",
   "execution_count": 4,
   "id": "ef7d1c7c",
   "metadata": {},
   "outputs": [
    {
     "name": "stdout",
     "output_type": "stream",
     "text": [
      "Enter the Input: 100,150,180\n",
      "Output: 18,22,24\n"
     ]
    }
   ],
   "source": [
    "from math import sqrt\n",
    "\n",
    "def calc():\n",
    "    num = eval(input(\"Enter the Input: \"))\n",
    "    output = []\n",
    "    C = 50 \n",
    "    H = 30 \n",
    "    for ele in num:\n",
    "        Q = str(int(sqrt((2*C*ele)/H)))\n",
    "        output.append(Q)\n",
    "    print(\"Output: {}\".format(','.join(output)))\n",
    "    \n",
    "calc()"
   ]
  },
  {
   "cell_type": "markdown",
   "id": "2f5b884e",
   "metadata": {},
   "source": [
    "#### 2.Write a program which takes 2 digits, X,Y as input and generates a 2-dimensional array. The element value in the i-th row and j-th column of the array should be i*j.     \n",
    "`Note: i=0,1.., X-1; j=0,1,¡Y-1.`  \n",
    "**Example:** Suppose the following inputs are given to the program: `3,5`  \n",
    "Then, the output of the program should be:`[[0, 0, 0, 0, 0], [0, 1, 2, 3, 4], [0, 2, 4, 6, 8]]`   "
   ]
  },
  {
   "cell_type": "code",
   "execution_count": 7,
   "id": "999879ce",
   "metadata": {},
   "outputs": [
    {
     "name": "stdout",
     "output_type": "stream",
     "text": [
      "Enter the Input: 3,5\n",
      "[[0, 0, 0, 0, 0], [0, 1, 2, 3, 4], [0, 2, 4, 6, 8]]\n"
     ]
    }
   ],
   "source": [
    "import array as arr\n",
    "def gen_arr():\n",
    "    x,y = eval(input(\"Enter the Input: \"))\n",
    "    output = []\n",
    "    for ele in range(x):\n",
    "        output.insert(x,[])\n",
    "        for sub_ele in range(y):\n",
    "            output[ele].append(ele*sub_ele)\n",
    "    return output\n",
    "    \n",
    "print(gen_arr())"
   ]
  },
  {
   "cell_type": "markdown",
   "id": "512e5348",
   "metadata": {},
   "source": [
    "#### 3.Write a program that accepts a comma separated sequence of words as input and prints the words in a comma-separated sequence after sorting them alphabetically ? \n",
    "Suppose the following input is supplied to the program: `without,hello,bag,world`  \n",
    "Then, the output should be: `bag,hello,without,world`\n"
   ]
  },
  {
   "cell_type": "code",
   "execution_count": 11,
   "id": "d62e5da5",
   "metadata": {},
   "outputs": [
    {
     "name": "stdout",
     "output_type": "stream",
     "text": [
      "Enter the Input String: without,hello,bag,world\n",
      "Output: bag,hello,without,world\n"
     ]
    }
   ],
   "source": [
    "def csv_sort():\n",
    "    string = input(\"Enter the Input String: \")\n",
    "    output = ','.join(sorted(string.split(',')))\n",
    "    print(f'Output: {output}')\n",
    "    \n",
    "csv_sort()"
   ]
  },
  {
   "cell_type": "markdown",
   "id": "67d99dab",
   "metadata": {},
   "source": [
    "#### 4.Write a program that accepts a sequence of whitespace separated words as input and prints the words after removing all duplicate words and sorting them alphanumerically.\n",
    "Suppose the following input is supplied to the program: `hello world and practice makes perfect and hello world again`  \n",
    "Then, the output should be: `again and hello makes perfect practice world`"
   ]
  },
  {
   "cell_type": "code",
   "execution_count": 12,
   "id": "2633f827",
   "metadata": {},
   "outputs": [
    {
     "name": "stdout",
     "output_type": "stream",
     "text": [
      "Enter the Input String: hello world and practice makes perfect and hello world again\n",
      "Output: again and hello makes perfect practice world\n"
     ]
    }
   ],
   "source": [
    "def space_sort():\n",
    "    string = input(\"Enter the Input String: \")\n",
    "    output = ' '.join(sorted(list(set(string.split(\" \")))))\n",
    "    print(f'Output: {output}')\n",
    "    \n",
    "space_sort()"
   ]
  },
  {
   "cell_type": "markdown",
   "id": "bf647aa0",
   "metadata": {},
   "source": [
    "#### 5.Write a program that accepts a sentence and calculate the number of letters and digits.\n",
    "Suppose the following input is supplied to the program: `hello world! 123`  \n",
    "Then, the output should be:  \n",
    "`LETTERS 10`  \n",
    "`DIGITS 3`  "
   ]
  },
  {
   "cell_type": "code",
   "execution_count": 13,
   "id": "a1055c73",
   "metadata": {},
   "outputs": [
    {
     "name": "stdout",
     "output_type": "stream",
     "text": [
      "Enter the Input String: hello world! 123\n",
      "LETTERS 10 \n",
      "DIGITS 3\n"
     ]
    }
   ],
   "source": [
    "def count_alphanum():\n",
    "    string = input(\"Enter the Input String: \")\n",
    "    letters= 'ABCDEFGHIJKLMNOPQRSTUVWXYZabcdefghijklmnopqrstuvwxyz'\n",
    "    digits = '0123456789'\n",
    "    letter = 0\n",
    "    digit = 0\n",
    "    for ele in string:\n",
    "        if ele in letters:\n",
    "            letter += 1\n",
    "        if ele in digits:\n",
    "            digit += 1\n",
    "    print(f'LETTERS {letter} \\nDIGITS {digit}')\n",
    "        \n",
    "count_alphanum()"
   ]
  },
  {
   "cell_type": "markdown",
   "id": "925eb219",
   "metadata": {},
   "source": [
    "#### 6.A website requires the users to input username and password to register. Write a program to check the validity of password input by users.\n",
    "Following are the criteria for checking the password:  \n",
    "1. At least 1 letter between [a-z]\n",
    "2. At least 1 number between [0-9]\n",
    "1. At least 1 letter between [A-Z]\n",
    "3. At least 1 character from [$#@]\n",
    "4. Minimum length of transaction password: 6\n",
    "5. Maximum length of transaction password: 12\n",
    "\n",
    "Your program should accept a sequence of comma separated passwords and will check them according to the above criteria. Passwords that match the criteria are to be printed, each separated by a comma.\n",
    "\n",
    "**Example:**  \n",
    "If the following passwords are given as input to the program: `ABd1234@1,a F1#,2w3E*,2We3345`  \n",
    "Then, the output of the program should be:`ABd1234@1`\n"
   ]
  },
  {
   "cell_type": "code",
   "execution_count": 19,
   "id": "b7b299c2",
   "metadata": {},
   "outputs": [
    {
     "name": "stdout",
     "output_type": "stream",
     "text": [
      "Enter the password: ABd1234@1,a F1#,2w3E*,2We3345\n",
      "ABd1234@1\n"
     ]
    }
   ],
   "source": [
    "def is_valid():\n",
    "    string = input(\"Enter the password: \")\n",
    "    small_list = \"abcdefghijklmnopqrstuvwxyz\"\n",
    "    cap_list = \"ABCDEFGHIJKLMNOPQRSTUVWXYZ\"\n",
    "    num_list = \"0123456789\"\n",
    "    special_list = \"$#@\"\n",
    "    for ele in string.split(\",\"):\n",
    "        if len(ele) <= 12 and len(ele) >=6 :\n",
    "            if any(i.isupper() for i in ele):\n",
    "                if any(i.islower() for i in ele):\n",
    "                    if any(i for i in ele if i in special_list):\n",
    "                        print(ele)\n",
    "                               \n",
    "is_valid()"
   ]
  }
 ],
 "metadata": {
  "kernelspec": {
   "display_name": "Python 3",
   "language": "python",
   "name": "python3"
  },
  "language_info": {
   "codemirror_mode": {
    "name": "ipython",
    "version": 3
   },
   "file_extension": ".py",
   "mimetype": "text/x-python",
   "name": "python",
   "nbconvert_exporter": "python",
   "pygments_lexer": "ipython3",
   "version": "3.8.8"
  }
 },
 "nbformat": 4,
 "nbformat_minor": 5
}
