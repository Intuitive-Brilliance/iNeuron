{
 "cells": [
  {
   "cell_type": "markdown",
   "id": "a8e2fc40",
   "metadata": {},
   "source": [
    "# Assignment - 5 Solution"
   ]
  },
  {
   "cell_type": "markdown",
   "id": "3ae2f846",
   "metadata": {},
   "source": [
    "#### Q1. What is the meaning of multiple inheritance?\n",
    "**Ans:** \n",
    "<br>Inheritence is the reusing of the code of the Parent class by the child class. \n",
    "<br>Similary when a child class inherits its properties from multiple Parent classes this scenario is called **Multiple Inheritence**"
   ]
  },
  {
   "cell_type": "code",
   "execution_count": 1,
   "id": "e8567eae",
   "metadata": {},
   "outputs": [],
   "source": [
    "class Parent_one:\n",
    "    pass\n",
    "class Parent_two:\n",
    "    pass\n",
    "class child(Parent_one,Parent_two):\n",
    "    pass"
   ]
  },
  {
   "cell_type": "markdown",
   "id": "38440f4c",
   "metadata": {},
   "source": [
    "#### Q2. What is the concept of delegation?\n",
    "**Ans:** \n",
    "<br>- Delegation provides a proxy object for any class thay you want on top of the main class similar to a wrapper to your class so that you can access limited resources of the main class.\n",
    "<br>- It Wraps the object of main class into a smaller object with limited access\n",
    "<br>- Simply Delegation means that you can include a instance of another class as an instance variable, and forward messages to the instance."
   ]
  },
  {
   "cell_type": "code",
   "execution_count": 5,
   "id": "d57e9c12",
   "metadata": {},
   "outputs": [
    {
     "name": "stdout",
     "output_type": "stream",
     "text": [
      "Mars\n",
      "Mars\n",
      "Mars\n",
      "Mikyway\n"
     ]
    }
   ],
   "source": [
    "class Myclass:\n",
    "    def planet(self):\n",
    "        print('Mars')\n",
    "    def galaxy(self):\n",
    "        print('Mikyway')\n",
    "\n",
    "class NewClass:\n",
    "    def __init__(self,obj):\n",
    "        self.main = obj\n",
    "    def which_planet(self):\n",
    "        self.main.planet()\n",
    "m = Myclass()        \n",
    "n = NewClass(m)\n",
    "m.planet()\n",
    "n.main.planet()\n",
    "n.which_planet()\n",
    "n.main.galaxy()"
   ]
  },
  {
   "cell_type": "markdown",
   "id": "4600a4d4",
   "metadata": {},
   "source": [
    "#### Q3. What is the concept of composition?\n",
    "**Ans:** \n",
    "<br>- Composition is a concept wherein a class refers to one or more other classes by using instances of those classes as a instance variable. \n",
    "<br>- Irrespective of inheritence in this approach all the parent class members are not inherited into child class but only required methods from a class are used by using class instances."
   ]
  },
  {
   "cell_type": "code",
   "execution_count": 7,
   "id": "7e779e32",
   "metadata": {},
   "outputs": [
    {
     "name": "stdout",
     "output_type": "stream",
     "text": [
      "Total Salary : 120000\n"
     ]
    }
   ],
   "source": [
    "class Salary:\n",
    "    def __init__(self,pay):\n",
    "        self.pay = pay\n",
    "    def get_total(self):\n",
    "        return self.pay*12\n",
    "    \n",
    "class Employee:\n",
    "    def __init__(self,pay,bonus):\n",
    "        self.pay = pay\n",
    "        self.bonus = bonus\n",
    "        self.obj_salary = Salary(self.pay)\n",
    "    def annual_salary(self):\n",
    "        return f'Total Salary : {str(self.obj_salary.get_total())}'\n",
    "\n",
    "obj_emp = Employee(10000,900)\n",
    "print(obj_emp.annual_salary())"
   ]
  },
  {
   "cell_type": "markdown",
   "id": "ce7913c2",
   "metadata": {},
   "source": [
    "#### Q4. What are bound methods and how do we use them?\n",
    "**Ans:** \n",
    "<br>- If a function is an attribute of class and it is accessed via the instances, they are called **bound methods**. \n",
    "<br>- A bound method is one that has **`self`** as its first argument. \n",
    "<br>- Since these are dependent on the instance of classes, these are also known as **instance methods**."
   ]
  },
  {
   "cell_type": "code",
   "execution_count": 8,
   "id": "dc8b18a8",
   "metadata": {},
   "outputs": [
    {
     "name": "stdout",
     "output_type": "stream",
     "text": [
      "Called method_one\n",
      "Called method_two\n",
      "Called method_two\n",
      "Called method_three\n"
     ]
    }
   ],
   "source": [
    "class Test:\n",
    "    def method_one(self): # bound method\n",
    "        print(\"Called method_one\")\n",
    "    @classmethod\n",
    "    def method_two(cls): # unbound method\n",
    "        print(\"Called method_two\")\n",
    "    @staticmethod\n",
    "    def method_three(): # static method\n",
    "        print(\"Called method_three\")\n",
    "\n",
    "test = Test()\n",
    "test.method_one() # accessing through instance object\n",
    "test.method_two() # accessing through instance object\n",
    "Test.method_two() # accessing directly through class\n",
    "Test.method_three() # accessing directly through class"
   ]
  },
  {
   "cell_type": "markdown",
   "id": "04f059af",
   "metadata": {},
   "source": [
    "#### Q5. What is the purpose of pseudoprivate attributes?\n",
    "**Ans:** \n",
    "<br>- Pseudoprivate attributes are useful in larger frameworks or tools, one to avoid introducing new method names that might accidentally hide definitions elsewhere in the class tree and two to reduce the chance of internal methods being replaced by names defined lower in the tree. \n",
    "<br>- If a method is intended for use only within a class that may be mixed into other classes, the double underscore prefix ensures that the method won't interfere with other names in the tree, especially in multiple-inheritance scenarios\n",
    "<<br>- Pseudoprivate names also prevent subclasses from accidentally redefining the internal method's names,"
   ]
  },
  {
   "cell_type": "code",
   "execution_count": 11,
   "id": "6710d4ea",
   "metadata": {},
   "outputs": [],
   "source": [
    "class Super:\n",
    "    def method(self):\n",
    "        pass\n",
    "class New:\n",
    "    def _method(self): \n",
    "        pass\n",
    "    def other(self):\n",
    "        self._method()\n",
    "class Sub_1(New,Super):\n",
    "    def actions(self):\n",
    "        self.method()\n",
    "class Sub_2(New):\n",
    "    def __init__(self):\n",
    "        self.method = 69"
   ]
  }
 ],
 "metadata": {
  "kernelspec": {
   "display_name": "Python 3",
   "language": "python",
   "name": "python3"
  },
  "language_info": {
   "codemirror_mode": {
    "name": "ipython",
    "version": 3
   },
   "file_extension": ".py",
   "mimetype": "text/x-python",
   "name": "python",
   "nbconvert_exporter": "python",
   "pygments_lexer": "ipython3",
   "version": "3.8.8"
  }
 },
 "nbformat": 4,
 "nbformat_minor": 5
}
