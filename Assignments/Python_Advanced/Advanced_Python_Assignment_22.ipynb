{
 "cells": [
  {
   "cell_type": "markdown",
   "id": "478225ca",
   "metadata": {},
   "source": [
    "# Assignment - 22 Solution"
   ]
  },
  {
   "cell_type": "markdown",
   "id": "81a1c047",
   "metadata": {},
   "source": [
    "#### Q1. What are the benefits of the built-in array package, if any?\n",
    "**Ans:** \n",
    "<br>- Arrays are data storing elements where data of same datatype is stored. \n",
    "<br>- In arrays, the elements can be accessed randomly by using the index number. \n",
    "<br>- Arrays allocate memory in contiguous memory locations for all its elements. \n",
    "<br>- Hence there is no chance of extra memory being allocated in case of arrays. \n",
    "<br>- This avoids memory overflow or shortage of memory in arrays."
   ]
  },
  {
   "cell_type": "markdown",
   "id": "72b97146",
   "metadata": {},
   "source": [
    "#### Q2. What are some of the array package's limitations ?\n",
    "**Ans:**  \n",
    "<br>- The number of elements to be stored in an array should be known in advance. \n",
    "<br>- An array is a static structure (which means the array is of fixed size). \n",
    "<br>- Once declared the size of the array cannot be modified. The memory which is allocated to it cannot be increased or decreased.\n",
    "<br>- Insertion and deletion are  difficult in an array as the elements are stored in consecutive memory locations and the shifting operation is costly.\n",
    "<br>- Allocating more memory than the requirement leads to wastage of memory space and less allocation of memory also leads to a problem"
   ]
  },
  {
   "cell_type": "markdown",
   "id": "fd6c2a9b",
   "metadata": {},
   "source": [
    "#### Q3. Describe the main differences between the array and numpy packages ?\n",
    "**Ans:**  \n",
    "<br>- The array package doesn't provide any help with numerical calculation with the items insdie it in number form while NumPy give you a wide variety of numerical operations.\n",
    "<br>- An array is a single dimensional entity which hold the numerical data, while numpy can have more than 1 dimension.\n",
    "<br>- In case of array, item can be accessed by its index position and it is easy task while in numpy item is accessed by its column and row index, which makes it slightly time taking. \n",
    "<br>- Similar situation occurs with appending operation.\n",
    "<br>- In case of array we do not form a tabular structure, while in numpy it forms a tabular structure "
   ]
  },
  {
   "cell_type": "markdown",
   "id": "17049af0",
   "metadata": {},
   "source": [
    "#### Q4. Explain the distinctions between the empty, ones, and zeros functions ?\n",
    "**Ans:**\n",
    "- `Empty function:` An empty function is a function that does not contain any statement within its body. If you try to write a function definition without any statement in python ,it will return an error. To avoid this, we use pass statement. Pass is a special statement in Python that does not perform any operation. It only works as a dummy statement.  \n",
    "- `Ones:` This function returns a new array of given shape and data type, where the element’s value is 1.  \n",
    "- `Zeros:` This function returns a new array of given shape and data type, where the element’s value is 0.  "
   ]
  },
  {
   "cell_type": "markdown",
   "id": "59182103",
   "metadata": {},
   "source": [
    "#### Q5. In the fromfunction function, which is used to construct new arrays, what is the role of the callable argument ?\n",
    "**Ans:**  \n",
    "<br>- It executes the function over each coordinate and the resulting array. \n",
    "<br>- The function is called with N parameters, where N is the rank of shape. \n",
    "<br>- Each parameter represents the coordinates of the array varying along a specific axis. "
   ]
  },
  {
   "cell_type": "markdown",
   "id": "82a330ed",
   "metadata": {},
   "source": [
    "#### Q6. What happens when a numpy array is combined with a single-value operand (a scalar, such as an int or a floating-point value) through addition, as in the expression `A + n` ?\n",
    "**Ans:** \n",
    "<br>- If any scaler value such as integer is added to the numpy array then all the elements inside the array will add that value in it. "
   ]
  },
  {
   "cell_type": "markdown",
   "id": "12e37586",
   "metadata": {},
   "source": [
    "#### Q7. Can array-to-scalar operations use combined operation-assign operators (such as += or *=)? What is the outcome ?\n",
    "**Ans:** \n",
    "<br>- It will carry out provided operation on all elements of array. "
   ]
  },
  {
   "cell_type": "markdown",
   "id": "f9687fd2",
   "metadata": {},
   "source": [
    "#### Q8. Does a numpy array contain fixed-length strings? What happens if you allocate a longer string to one of these arrays ?\n",
    "**Ans:**\n",
    "<br>- Yes, it is possible that we can include a string of fixed length in numpy array. \n",
    "<br>- The dtype of any numpy array containing string values is the maximum length of any string present in the array.\n",
    "<br>- Once set, it will only be able to store new string having length not more than the maximum length at the time of the creation. \n",
    "<br>- If we try to reassign some another string value having length greater than the maximum length of the existing elements, it simply discards all the values beyond the maximum length accept upto those values which are under the limit."
   ]
  },
  {
   "cell_type": "markdown",
   "id": "d5da8bbe",
   "metadata": {},
   "source": [
    "#### Q9. What happens when you combine two numpy arrays using an operation like addition (+) or multiplication (*)? What are the conditions for combining two numpy arrays ?\n",
    "**Ans:** \n",
    "<br>- It will simply add or multiply element to element at same position. "
   ]
  },
  {
   "cell_type": "markdown",
   "id": "d350b416",
   "metadata": {},
   "source": [
    "#### Q10. What is the best way to use a Boolean array to mask another array ?\n",
    "**Ans:** \n",
    "<br>- By using `masked_where` method of numpy library."
   ]
  },
  {
   "cell_type": "markdown",
   "id": "b5401443",
   "metadata": {},
   "source": [
    "#### Q11. What are three different ways to get the standard deviation of a wide collection of data using both standard Python and its packages? Sort the three of them by how quickly they execute ?\n",
    "**Ans:** From the fastest execution time to the longest.\n",
    "1. `pd.Series(array).std()`\n",
    "2. `statistics.stdev(array)` \n",
    "3. `numpy.std(array)`"
   ]
  },
  {
   "cell_type": "markdown",
   "id": "2c49864a",
   "metadata": {},
   "source": [
    "#### 12. What is the dimensionality of a Boolean mask-generated array ?\n",
    "**Ans:**  \n",
    "<br>- It will have same dimensionality as input array."
   ]
  }
 ],
 "metadata": {
  "kernelspec": {
   "display_name": "Python 3",
   "language": "python",
   "name": "python3"
  },
  "language_info": {
   "codemirror_mode": {
    "name": "ipython",
    "version": 3
   },
   "file_extension": ".py",
   "mimetype": "text/x-python",
   "name": "python",
   "nbconvert_exporter": "python",
   "pygments_lexer": "ipython3",
   "version": "3.8.8"
  }
 },
 "nbformat": 4,
 "nbformat_minor": 5
}
