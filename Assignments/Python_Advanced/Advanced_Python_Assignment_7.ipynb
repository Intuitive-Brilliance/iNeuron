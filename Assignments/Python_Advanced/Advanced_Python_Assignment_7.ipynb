{
 "cells": [
  {
   "cell_type": "markdown",
   "id": "56306a9b",
   "metadata": {},
   "source": [
    "# Assignment - 7 Solution"
   ]
  },
  {
   "cell_type": "markdown",
   "id": "890ac6ef",
   "metadata": {},
   "source": [
    "#### Q1. What is the purpose of the try statement?\n",
    "**Ans:** \n",
    "<br>- **`try`** statement is used for exception handling in python. \n",
    "<br>- Exception handling consists of a block of risky statements which might cause an exception during runtime. \n",
    "<br>- If code within try block raises exception, then the exception will be reverted to the corresponding except block if multiple except blocks are present, else it willbe reverted to the default except block. \n",
    "<br>- In this way the try and except in union avoid programs from crashing during runtime due to exceptions."
   ]
  },
  {
   "cell_type": "markdown",
   "id": "4edfb2b6",
   "metadata": {},
   "source": [
    "#### Q2. What are the two most popular try statement variations?\n",
    "**Ans:**\n",
    "1. **`try`,`except`**\n",
    "2. **`try`,`except`,`finally`**\n",
    "3. **`try`,`except`,`finally`,`else`**\n",
    "\n",
    "<br>- The **`try`** block is used to check code for exceptions during runtime. \n",
    "<br>- The code inside `try` block will execute completely when there is no error in the program. \n",
    "<br>- Te code inside `except` block will execute whenever the program encounters some error in the preceeding **`try`** block.\n",
    "<br>- the code enters the **`else`** block if and only if the try clause does not raise and exception. \n",
    "<br>- The code in the **`finally`** block will execute irrespective of exception."
   ]
  },
  {
   "cell_type": "markdown",
   "id": "c39b56b0",
   "metadata": {},
   "source": [
    "#### Q3. What is the purpose of the raise statement?\n",
    "**Ans:**\n",
    "<br>- **`raise`** statement is used to trigger an exception explicitly, if a certain condition is not as per requirement of programmer. \n",
    "<br>- **`raise`** statement helps in triggering exception as per programming logic."
   ]
  },
  {
   "cell_type": "markdown",
   "id": "2ea68550",
   "metadata": {},
   "source": [
    "#### Q4. What does the assert statement do, and what other statement is it like?\n",
    "**Ans:** \n",
    "<br>- There are few assertions that must always to be true to avoid code failure. \n",
    "<br>- This type of requirement is fulfilled by **`assert`** statement. \n",
    "<br>- This statement takes a boolean condition output of which is True, Further Program Executes. \n",
    "<br>- If output of assert statement is False, it raises an Assertion Error."
   ]
  },
  {
   "cell_type": "code",
   "execution_count": 1,
   "id": "6df3fe6c",
   "metadata": {},
   "outputs": [
    {
     "ename": "AssertionError",
     "evalue": "True is not equal to False",
     "output_type": "error",
     "traceback": [
      "\u001b[1;31m---------------------------------------------------------------------------\u001b[0m",
      "\u001b[1;31mAssertionError\u001b[0m                            Traceback (most recent call last)",
      "\u001b[1;32m<ipython-input-1-b8c4ce576f79>\u001b[0m in \u001b[0;36m<module>\u001b[1;34m\u001b[0m\n\u001b[1;32m----> 1\u001b[1;33m \u001b[1;32massert\u001b[0m\u001b[1;33m(\u001b[0m\u001b[1;32mTrue\u001b[0m \u001b[1;33m==\u001b[0m \u001b[1;32mFalse\u001b[0m\u001b[1;33m)\u001b[0m\u001b[1;33m,\u001b[0m \u001b[1;34mf'True is not equal to False'\u001b[0m\u001b[1;33m\u001b[0m\u001b[1;33m\u001b[0m\u001b[0m\n\u001b[0m",
      "\u001b[1;31mAssertionError\u001b[0m: True is not equal to False"
     ]
    }
   ],
   "source": [
    "assert(True == False), f'True is not equal to False'"
   ]
  },
  {
   "cell_type": "markdown",
   "id": "1cc50d65",
   "metadata": {},
   "source": [
    "#### Q5. What is the purpose of the with/as argument, and what other statement is it like?\n",
    "**Ans:** \n",
    "<br>- **`with/as`** statement simplifies use of file handling in python.\n",
    "<br>- Using **`with`** statement for file reading, there is no need to explicitly takecare of activities like resource deallocation and file closing by using file.close() method. \n",
    "<br>- **`with`** statement itself ensures proper acquisition and release of resources. \n",
    "<br>- This avoids triggering of exceptions if file closing is unknowingly forgotten in the code execution.\n",
    "\n",
    "`with open('test.txt','w') as file:\n",
    "    file.write('Testing...')`"
   ]
  }
 ],
 "metadata": {
  "kernelspec": {
   "display_name": "Python 3",
   "language": "python",
   "name": "python3"
  },
  "language_info": {
   "codemirror_mode": {
    "name": "ipython",
    "version": 3
   },
   "file_extension": ".py",
   "mimetype": "text/x-python",
   "name": "python",
   "nbconvert_exporter": "python",
   "pygments_lexer": "ipython3",
   "version": "3.8.8"
  }
 },
 "nbformat": 4,
 "nbformat_minor": 5
}
