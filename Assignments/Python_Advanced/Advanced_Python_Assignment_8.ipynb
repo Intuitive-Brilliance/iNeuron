{
 "cells": [
  {
   "cell_type": "markdown",
   "id": "ce6590a1",
   "metadata": {},
   "source": [
    "# Assignment - 8 Solution"
   ]
  },
  {
   "cell_type": "markdown",
   "id": "efb72245",
   "metadata": {},
   "source": [
    "#### Q1. What are the two latest user-defined exception constraints in Python 3.X?\n",
    "**Ans:**\n",
    "<br>**`raise`** and **`assert`** are the two latest user-defined exception constraints in Python 3.X"
   ]
  },
  {
   "cell_type": "markdown",
   "id": "f1479448",
   "metadata": {},
   "source": [
    "#### Q2. How are class-based exceptions that have been raised matched to handlers?\n",
    "**Ans:** \n",
    "<br> We can define custom exceptions by creating a new class. \n",
    "<br>This exception class has to be derived, either directly or indirectly from built-in **`Exception`** class. \n",
    "<br>This new exception class like other exceptions can be raised using the **`raise`** statement with an optional error message."
   ]
  },
  {
   "cell_type": "code",
   "execution_count": 1,
   "id": "648a981d",
   "metadata": {},
   "outputs": [
    {
     "ename": "New_Exception",
     "evalue": "Still in 2022",
     "output_type": "error",
     "traceback": [
      "\u001b[1;31m---------------------------------------------------------------------------\u001b[0m",
      "\u001b[1;31mNew_Exception\u001b[0m                             Traceback (most recent call last)",
      "\u001b[1;32m<ipython-input-1-445bc21d2b10>\u001b[0m in \u001b[0;36m<module>\u001b[1;34m\u001b[0m\n\u001b[0;32m      3\u001b[0m         \u001b[0mself\u001b[0m\u001b[1;33m.\u001b[0m\u001b[0mmsg\u001b[0m \u001b[1;33m=\u001b[0m \u001b[0mmsg\u001b[0m\u001b[1;33m\u001b[0m\u001b[1;33m\u001b[0m\u001b[0m\n\u001b[0;32m      4\u001b[0m \u001b[0myear\u001b[0m \u001b[1;33m=\u001b[0m \u001b[1;36m2023\u001b[0m\u001b[1;33m\u001b[0m\u001b[1;33m\u001b[0m\u001b[0m\n\u001b[1;32m----> 5\u001b[1;33m \u001b[1;32mif\u001b[0m \u001b[0myear\u001b[0m \u001b[1;33m>=\u001b[0m \u001b[1;36m2022\u001b[0m\u001b[1;33m:\u001b[0m \u001b[1;32mraise\u001b[0m \u001b[0mNew_Exception\u001b[0m\u001b[1;33m(\u001b[0m\u001b[1;34m'Still in 2022'\u001b[0m\u001b[1;33m)\u001b[0m\u001b[1;33m\u001b[0m\u001b[1;33m\u001b[0m\u001b[0m\n\u001b[0m",
      "\u001b[1;31mNew_Exception\u001b[0m: Still in 2022"
     ]
    }
   ],
   "source": [
    "class New_Exception(Exception):\n",
    "    def __init__(self,msg):\n",
    "        self.msg = msg\n",
    "year = 2023\n",
    "if year >= 2022: raise New_Exception('Still in 2022')"
   ]
  },
  {
   "cell_type": "markdown",
   "id": "15ce7b10",
   "metadata": {},
   "source": [
    "#### Q3. Describe two methods for attaching context information to exception artefacts ?\n",
    "**Ans:** \n",
    "<br>The **`process()`** method of LoggerAdapter is where the contextual information is added to the logging output. \n",
    "<br>It passes the message and keyword arguments of the logging call and modifies them to call to the underlying logger.\n",
    "\n",
    "<br>**`exception()`** method can be used for similar application where it logs a messgae with level ERROR on this logger. <br>The arguments are interpreted as for **`debug()`**. Exception info is added to the logging message."
   ]
  },
  {
   "cell_type": "markdown",
   "id": "7fbfd775",
   "metadata": {},
   "source": [
    "#### Q4. Describe two methods for specifying the text of an exception object's error message ?\n",
    "**Ans:** \n",
    "<br>**`raise`** and **`assert`** are two methods for specifying the text of an exception object's error message.\n",
    "<br>**`raise`** statement is used to trigger explicit exception if certain condition is not as per requirement of programmer. \n",
    "<br>It helps in triggering exception as per need of programmer and logic.\n",
    "\n",
    "<br>**`assert`** statement fecilitates the asserations that are always needed to be true to avoid code failure. \n",
    "<br>It takes a Boolean condition, output of which if True, doesn't halt the execution of further statements. \n",
    "<br>If output is False **`Assertion Error`** is raised."
   ]
  },
  {
   "cell_type": "markdown",
   "id": "0855de9b",
   "metadata": {},
   "source": [
    "#### Q5. Why do you no longer use string-based exceptions?\n",
    "**Ans:**\n",
    "<br>String-based Exceptions doesn't inherit from Exceptions allowing plain exceptions catch all exceptions including system exceptions."
   ]
  }
 ],
 "metadata": {
  "kernelspec": {
   "display_name": "Python 3",
   "language": "python",
   "name": "python3"
  },
  "language_info": {
   "codemirror_mode": {
    "name": "ipython",
    "version": 3
   },
   "file_extension": ".py",
   "mimetype": "text/x-python",
   "name": "python",
   "nbconvert_exporter": "python",
   "pygments_lexer": "ipython3",
   "version": "3.8.8"
  }
 },
 "nbformat": 4,
 "nbformat_minor": 5
}
