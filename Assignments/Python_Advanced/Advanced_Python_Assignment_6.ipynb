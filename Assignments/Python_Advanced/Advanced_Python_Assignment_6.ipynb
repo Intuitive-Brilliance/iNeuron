{
 "cells": [
  {
   "cell_type": "markdown",
   "id": "cdb59e56",
   "metadata": {},
   "source": [
    "# Assignment - 6 Solution"
   ]
  },
  {
   "cell_type": "markdown",
   "id": "9dce2ceb",
   "metadata": {},
   "source": [
    "#### Q1. Describe three applications for exception processing.\n",
    "**Ans:** Exception Processing is important to find exceptions that causes the runtime error as runtime errors halts the program execution when exception occurs.\n",
    "\n",
    "Exception Handling can be used in following applications:\n",
    "1. Checking for Arithmetic exceptions in mathematical executions\n",
    "2. Checking Appropriate use of input in an application\n",
    "3. Checking File I/O exceptions during File handling"
   ]
  },
  {
   "cell_type": "markdown",
   "id": "c82ae389",
   "metadata": {},
   "source": [
    "#### Q2. What happens if you don't do something extra to treat an exception?\n",
    "**Ans:** \n",
    "<br>If Exceptions are not handled the flow of program will be broken during the runtime which might lead to a abnormal termination of the program. \n",
    "<br>Inability of program to handle exceptions will result in crashing of program."
   ]
  },
  {
   "cell_type": "markdown",
   "id": "5adab9bd",
   "metadata": {},
   "source": [
    "#### Q3. What are your options for recovering from an exception in your script?\n",
    "**Ans:** Python provides **`try`** and **`except`** statements for recovering from an exception in your script."
   ]
  },
  {
   "cell_type": "markdown",
   "id": "d7379d80",
   "metadata": {},
   "source": [
    "#### Q4. Describe two methods for triggering exceptions in your script ?\n",
    "**Ans:** \n",
    "<br>**`raise`** and **`assert`** are two methods that can be used to trigger manual exceptions in your script.\n",
    "- **`raise`** method triggers an exception if condition provided to it turns out to be True.\n",
    "- **`assert`** will let the program to continue execution if condition provided to it turns out to be True else exception will be raised"
   ]
  },
  {
   "cell_type": "code",
   "execution_count": 2,
   "id": "55ca2b5b",
   "metadata": {},
   "outputs": [
    {
     "ename": "Exception",
     "evalue": "x cannot be True. Value of X is True",
     "output_type": "error",
     "traceback": [
      "\u001b[1;31m---------------------------------------------------------------------------\u001b[0m",
      "\u001b[1;31mException\u001b[0m                                 Traceback (most recent call last)",
      "\u001b[1;32m<ipython-input-2-2faa832baf05>\u001b[0m in \u001b[0;36m<module>\u001b[1;34m\u001b[0m\n\u001b[0;32m      1\u001b[0m \u001b[1;31m# Example\u001b[0m\u001b[1;33m\u001b[0m\u001b[1;33m\u001b[0m\u001b[1;33m\u001b[0m\u001b[0m\n\u001b[0;32m      2\u001b[0m \u001b[0mx\u001b[0m \u001b[1;33m=\u001b[0m \u001b[1;32mTrue\u001b[0m\u001b[1;33m\u001b[0m\u001b[1;33m\u001b[0m\u001b[0m\n\u001b[1;32m----> 3\u001b[1;33m \u001b[1;32mraise\u001b[0m \u001b[0mException\u001b[0m\u001b[1;33m(\u001b[0m\u001b[1;34mf'x cannot be True. Value of X is {x}'\u001b[0m\u001b[1;33m)\u001b[0m\u001b[1;33m\u001b[0m\u001b[1;33m\u001b[0m\u001b[0m\n\u001b[0m",
      "\u001b[1;31mException\u001b[0m: x cannot be True. Value of X is True"
     ]
    }
   ],
   "source": [
    "# Example\n",
    "x = True\n",
    "raise Exception(f'x cannot be True. Value of X is {x}')"
   ]
  },
  {
   "cell_type": "code",
   "execution_count": 4,
   "id": "b9bfe958",
   "metadata": {},
   "outputs": [
    {
     "ename": "AssertionError",
     "evalue": "True is not equal to False",
     "output_type": "error",
     "traceback": [
      "\u001b[1;31m---------------------------------------------------------------------------\u001b[0m",
      "\u001b[1;31mAssertionError\u001b[0m                            Traceback (most recent call last)",
      "\u001b[1;32m<ipython-input-4-dc0b0f0211cb>\u001b[0m in \u001b[0;36m<module>\u001b[1;34m\u001b[0m\n\u001b[0;32m      1\u001b[0m \u001b[1;31m# Example\u001b[0m\u001b[1;33m\u001b[0m\u001b[1;33m\u001b[0m\u001b[1;33m\u001b[0m\u001b[0m\n\u001b[1;32m----> 2\u001b[1;33m \u001b[1;32massert\u001b[0m\u001b[1;33m(\u001b[0m\u001b[1;32mTrue\u001b[0m\u001b[1;33m==\u001b[0m\u001b[1;32mFalse\u001b[0m\u001b[1;33m)\u001b[0m\u001b[1;33m,\u001b[0m \u001b[1;34m\"True is not equal to False\"\u001b[0m\u001b[1;33m\u001b[0m\u001b[1;33m\u001b[0m\u001b[0m\n\u001b[0m",
      "\u001b[1;31mAssertionError\u001b[0m: True is not equal to False"
     ]
    }
   ],
   "source": [
    "# Example\n",
    "assert(True==False), \"True is not equal to False\""
   ]
  },
  {
   "cell_type": "markdown",
   "id": "6335bd5c",
   "metadata": {},
   "source": [
    "#### Q5. Identify two methods for specifying actions to be executed at termination time, regardless of whether or not an exception exists.\n",
    "**Ans:** \n",
    "<br>**`else`** and **`finally`** blocks can be used for specifying actions to be executed at termination time, regardless of whether an exceptions exists or not."
   ]
  }
 ],
 "metadata": {
  "kernelspec": {
   "display_name": "Python 3",
   "language": "python",
   "name": "python3"
  },
  "language_info": {
   "codemirror_mode": {
    "name": "ipython",
    "version": 3
   },
   "file_extension": ".py",
   "mimetype": "text/x-python",
   "name": "python",
   "nbconvert_exporter": "python",
   "pygments_lexer": "ipython3",
   "version": "3.8.8"
  }
 },
 "nbformat": 4,
 "nbformat_minor": 5
}
