{
 "cells": [
  {
   "cell_type": "markdown",
   "id": "57a871f3",
   "metadata": {},
   "source": [
    "# Assignment - 20 Solution"
   ]
  },
  {
   "cell_type": "markdown",
   "id": "05ee62b2",
   "metadata": {},
   "source": [
    "#### 1. Compare and contrast the float and Decimal classes' benefits and drawbacks ?\n",
    "**Ans:** \n",
    "<br>- Both the `float` and `decimal` types store numerical values in Python.\n",
    "<br>- `floats` are to be used when convenience and speed matter. A float gives you an approximation of the number you declare.\n",
    "<br>- `decimals` are to be used when precision matters. \n",
    "<br>- Generally, `decimals` are more precise than `floats`. \n",
    "<br>- The performance difference between `float` and `decimal` is not large and the precision benefits of a `decimal` outweigh the performance benefits of a `float`."
   ]
  },
  {
   "cell_type": "markdown",
   "id": "fd433d14",
   "metadata": {},
   "source": [
    "#### 2. Decimal('1.200') and Decimal('1.2') are two objects to consider. In what sense are these the same object? Are these just two ways of representing the exact same value, or do they correspond to different internal states ?\n",
    "**Ans:** \n",
    "- Both values are same but internal representation at storage Is different. \n",
    "- Precsion  differs, `Decimal('1.200')` gives internally  `1.200` and  `Decimal('1.2')` gives `1.2`."
   ]
  },
  {
   "cell_type": "markdown",
   "id": "efc3efad",
   "metadata": {},
   "source": [
    "#### 3. What happens if the equality of Decimal('1.200') and Decimal('1.2') is checked ?\n",
    "**Ans:** \n",
    "<br>- Both values are checked to be equal , they only differ in precision."
   ]
  },
  {
   "cell_type": "markdown",
   "id": "8f6cda09",
   "metadata": {},
   "source": [
    "#### 4. Why is it preferable to start a Decimal object with a string rather than a floating-point value ?\n",
    "**Ans:** \n",
    "- Floating-point value is converted to Decimal format. Decimal can store float value with absolute precision. \n",
    "- But when float value is given as Decimal object,it first has to be converted from floating point value which might already have rounding error.\n",
    "- Hence it is preferable to start a Decimal object with a string."
   ]
  },
  {
   "cell_type": "markdown",
   "id": "2e42c0a6",
   "metadata": {},
   "source": [
    "#### 5. In an arithmetic phrase, how simple is it to combine Decimal objects with integers ?\n",
    "**Ans:** <br>- By using `Decimal()`."
   ]
  },
  {
   "cell_type": "markdown",
   "id": "6a9cf124",
   "metadata": {},
   "source": [
    "#### 6. Can Decimal objects and floating-point values be combined easily ?\n",
    "**Ans:** \n",
    "- Arithmetic operfations like Adding,subtracting or multiplying a Decimal object by a floating-point value is generates an error.\n",
    "- To do these operations, the floating point has to be converted to a Decimal."
   ]
  },
  {
   "cell_type": "markdown",
   "id": "860d14ca",
   "metadata": {},
   "source": [
    "#### 7. Using the Fraction class but not the Decimal class, give an example of a quantity that can be expressed with absolute precision ?\n",
    "**Ans:** Value of `0.5` will be represented as `½`."
   ]
  },
  {
   "cell_type": "markdown",
   "id": "6702505a",
   "metadata": {},
   "source": [
    "#### 8.Consider the following two fraction objects: Fraction(1, 2) and Fraction(1, 2). (5, 10). Is the internal state of these two objects the same? Why do you think that is ?\n",
    "**Ans:** <br>-Both will be reduced to `1/2`"
   ]
  },
  {
   "cell_type": "markdown",
   "id": "1039ed6b",
   "metadata": {},
   "source": [
    "#### 9. How do the Fraction class and the integer type (int) relate to each other? Containment or inheritance ?\n",
    "**Ans:**<br>- Fraction class and integer type(int) are related in form of a container.\n",
    "<br>- It contains two ints, one the numerator and the other the denominator"
   ]
  }
 ],
 "metadata": {
  "kernelspec": {
   "display_name": "Python 3",
   "language": "python",
   "name": "python3"
  },
  "language_info": {
   "codemirror_mode": {
    "name": "ipython",
    "version": 3
   },
   "file_extension": ".py",
   "mimetype": "text/x-python",
   "name": "python",
   "nbconvert_exporter": "python",
   "pygments_lexer": "ipython3",
   "version": "3.8.8"
  }
 },
 "nbformat": 4,
 "nbformat_minor": 5
}
