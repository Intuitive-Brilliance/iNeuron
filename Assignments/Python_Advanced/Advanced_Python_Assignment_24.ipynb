{
 "cells": [
  {
   "cell_type": "markdown",
   "id": "d8ed8d0b",
   "metadata": {},
   "source": [
    "# Assignment - 24 Solution"
   ]
  },
  {
   "cell_type": "markdown",
   "id": "d91cebf0",
   "metadata": {},
   "source": [
    "#### Q1. Is it permissible to use several import statements to import the same module? What would the goal be? Can you think of a situation where it would be beneficial ?\n",
    "**Ans:** <br>Yes, it is permissible to use several import statements to import the same module. It is used in case when we have to import multiple functions from same module. "
   ]
  },
  {
   "cell_type": "markdown",
   "id": "4cca993e",
   "metadata": {},
   "source": [
    "#### Q2. What are some of a module's characteristics? (Name at least one.)\n",
    "**Ans:**\n",
    "- **`__name__`** : It returns the name of the module\n",
    "- **`__doc__`** : It denotes the documentation string line written in a module code.\n",
    "- **`__file__`** : It holds the name and path of the module file from which it is loaded\n",
    "- **`__dict__`** : It return a dictionary object of module attributes, functions and other definitions and their respective values"
   ]
  },
  {
   "cell_type": "markdown",
   "id": "748f017b",
   "metadata": {},
   "source": [
    "#### Q3. Circular importing, such as when two modules import each other, can lead to dependencies and bugs that aren't visible. How can you go about creating a program that avoids mutual importing?\n",
    "**Ans:** \n",
    "<br>Circular importing leads to an `import error` due to creation of endless loop.\n",
    "<br> This can be avoided by using the statement `__name__ == '__main__'`\n",
    "<br> This statement prevents us from directly refering to the function in the program thereby preventing the infinite loop.\n"
   ]
  },
  {
   "cell_type": "markdown",
   "id": "74cfdc5e",
   "metadata": {},
   "source": [
    "#### Q4. Why is  **`__all__`** in Python ?\n",
    "**Ans:**\n",
    "<br>**`__all__`** provides list of all modules present in a library. "
   ]
  },
  {
   "cell_type": "markdown",
   "id": "0d818cbd",
   "metadata": {},
   "source": [
    "#### Q5. In what situation is it useful to refer to the `__name__` attribute or the string `__main_ _` ?\n",
    "**Ans:** \n",
    "<br>During the of execution of the code if we want to refer the module in which we are working on, then we use name attribute. \n",
    "<br>In that case it will return the module in which we are working on. \n",
    "<br>If that moudle is being imported from some other module then name will have the name of that moudle from where the current module has been imported. \n",
    "<br>The current module in which we are working is refer to the string `__main __`."
   ]
  }
 ],
 "metadata": {
  "kernelspec": {
   "display_name": "Python 3",
   "language": "python",
   "name": "python3"
  },
  "language_info": {
   "codemirror_mode": {
    "name": "ipython",
    "version": 3
   },
   "file_extension": ".py",
   "mimetype": "text/x-python",
   "name": "python",
   "nbconvert_exporter": "python",
   "pygments_lexer": "ipython3",
   "version": "3.8.8"
  }
 },
 "nbformat": 4,
 "nbformat_minor": 5
}
