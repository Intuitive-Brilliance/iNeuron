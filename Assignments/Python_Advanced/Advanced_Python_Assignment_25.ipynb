{
 "cells": [
  {
   "cell_type": "markdown",
   "id": "ae0f9c40",
   "metadata": {},
   "source": [
    "# Assignment - 25 Solution"
   ]
  },
  {
   "cell_type": "markdown",
   "id": "bb43a46e",
   "metadata": {},
   "source": [
    "#### Q1. What is the distinction between a numpy array and a pandas data frame? Is there a way to convert between the two if there is ?\n",
    "**Ans:** <br>Numpy Ndarray provides a lot of convenient and optimized methods for performing several mathematical operations on vectors.\n",
    "<br> Numpy arrays consume lesser space.\n",
    "\n",
    "<br>Pandas Dataframe is an in-memory 2-dimensional tabular representation of data. In simpler words, it can be seen as a spreadsheet having rows and columns.\n",
    "<br>Pandas Dataframe consume more space\n",
    "\n",
    "<br>Conversion : `Dataframe=pandas.DataFrame(np_array)`"
   ]
  },
  {
   "cell_type": "markdown",
   "id": "24146fcb",
   "metadata": {},
   "source": [
    "#### Q2. Identify some of the plotting techniques that are used to produce a stock-market chart ?\n",
    "**Ans:** \n",
    "<br>Moving Average Graph, Bar graph, Line Graph are used for plotting. "
   ]
  },
  {
   "cell_type": "markdown",
   "id": "f0fdf95b",
   "metadata": {},
   "source": [
    "#### Q3. Why is it essential to print a legend on a stock market chart ?\n",
    "**Ans:** \n",
    "<br>Legends help us to make comparison between different stocks, making it essential on a stock market chart"
   ]
  },
  {
   "cell_type": "markdown",
   "id": "186d0d51",
   "metadata": {},
   "source": [
    "#### Q4. What is the best way to limit the length of a pandas data frame to less than a year ?\n",
    "**Ans:**\n",
    "<br>Using start and end parameters will allow us to limit the dataframe as per our requirement.\n",
    "<br>Start parameter indicate the starting date and End parameter indicates the last date.\n",
    "<br>Periods can also be used to signify the interval between individual timestamps."
   ]
  },
  {
   "cell_type": "markdown",
   "id": "5805fa40",
   "metadata": {},
   "source": [
    "#### Q5. What is the definition of a 180-day moving average ?\n",
    "**Ans:**:\n",
    "<br>The 180-day moving average is represented as a line on charts and represents the average price over the past 180 days. <br>The moving average can give traders a sense regarding whether the trend is up or down, while also identifying potential support or resistance areas."
   ]
  }
 ],
 "metadata": {
  "kernelspec": {
   "display_name": "Python 3",
   "language": "python",
   "name": "python3"
  },
  "language_info": {
   "codemirror_mode": {
    "name": "ipython",
    "version": 3
   },
   "file_extension": ".py",
   "mimetype": "text/x-python",
   "name": "python",
   "nbconvert_exporter": "python",
   "pygments_lexer": "ipython3",
   "version": "3.8.8"
  }
 },
 "nbformat": 4,
 "nbformat_minor": 5
}
