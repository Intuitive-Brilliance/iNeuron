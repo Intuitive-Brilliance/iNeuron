{
 "cells": [
  {
   "cell_type": "markdown",
   "id": "41bc56d1",
   "metadata": {},
   "source": [
    "# Assignment - 4 Solution"
   ]
  },
  {
   "cell_type": "markdown",
   "id": "4d2ed0e4",
   "metadata": {},
   "source": [
    "#### 1.What exactly is `[ ]`?\n",
    "**Ans**: <br/>The empty list represented by `[]` is a list that contains no items. \n",
    "<br/> It is also an indexing operator if placed before an iterable."
   ]
  },
  {
   "cell_type": "markdown",
   "id": "b6e56852",
   "metadata": {},
   "source": [
    "#### 2.In a list of values stored in a variable called spam, how would you assign the value 'hello' as the third value? (Assume [2, 4, 6, 8, 10] are in spam.) \n",
    "**Ans:** <br/>`spam[2]='hello'`"
   ]
  },
  {
   "cell_type": "code",
   "execution_count": 1,
   "id": "737fb672",
   "metadata": {},
   "outputs": [
    {
     "name": "stdout",
     "output_type": "stream",
     "text": [
      "[2, 4, 6, 8, 10]\n",
      "[2, 4, 'hello', 8, 10]\n"
     ]
    }
   ],
   "source": [
    "# Example\n",
    "spam=[2,4,6,8,10]\n",
    "print(spam)\n",
    "spam[2]='hello' #List uses zero based indexing\n",
    "print(spam)"
   ]
  },
  {
   "cell_type": "code",
   "execution_count": 8,
   "id": "56df41d5",
   "metadata": {},
   "outputs": [
    {
     "name": "stdout",
     "output_type": "stream",
     "text": [
      "[2, 4, 'hello', 6, 8, 10]\n"
     ]
    }
   ],
   "source": [
    "#If all the elements are to be preserved\n",
    "spam=[2,4,6,8,10]\n",
    "spam = spam[:2]+['hello']+spam[2:]\n",
    "print(spam)"
   ]
  },
  {
   "cell_type": "markdown",
   "id": "423f2578",
   "metadata": {},
   "source": [
    "## Let's pretend the spam includes the list ['a','b','c',d'] for the next three queries."
   ]
  },
  {
   "cell_type": "markdown",
   "id": "c3093377",
   "metadata": {},
   "source": [
    "#### 3. What is the value of `spam[int(int('3'*2)//11)]` ?\n",
    "**Ans:** <br/>`'d'` \n",
    "<br/>'3' * 2 is the string '33', which is passed to int() before being divided by 11.\n",
    "<br/>This evaluates to 3, `spam[3]` is equal to `d`"
   ]
  },
  {
   "cell_type": "code",
   "execution_count": 9,
   "id": "338984fe",
   "metadata": {},
   "outputs": [
    {
     "name": "stdout",
     "output_type": "stream",
     "text": [
      "spam[int(int('3'*2)//11)] -> d\n"
     ]
    }
   ],
   "source": [
    "spam=['a','b','c','d']\n",
    "print(\"spam[int(int('3'*2)//11)] ->\",spam[int(int('3'*2)//11)])"
   ]
  },
  {
   "cell_type": "markdown",
   "id": "9e1182c8",
   "metadata": {},
   "source": [
    "#### 4. What is the value of spam[-1]?\n",
    "**Ans:** <br/>`'d'` \n",
    "<br/>Lists support Negative indexing, Hence `spam[-1]` returs `'d'`"
   ]
  },
  {
   "cell_type": "code",
   "execution_count": 10,
   "id": "ee415de9",
   "metadata": {},
   "outputs": [
    {
     "name": "stdout",
     "output_type": "stream",
     "text": [
      "spam[-1] ->  d\n"
     ]
    }
   ],
   "source": [
    "spam=['a','b','c','d']\n",
    "print('spam[-1] -> ',spam[-1])"
   ]
  },
  {
   "cell_type": "markdown",
   "id": "95920e0b",
   "metadata": {},
   "source": [
    "#### 5. What is the value of spam[:2]?\n",
    "**Ans:** `spam[:2]` returns all elements in the list spam from 0 to 2 excluding 2"
   ]
  },
  {
   "cell_type": "code",
   "execution_count": 4,
   "id": "19c06353",
   "metadata": {},
   "outputs": [
    {
     "name": "stdout",
     "output_type": "stream",
     "text": [
      "['a', 'b', 'c', 'd']\n",
      "['a', 'b']\n"
     ]
    }
   ],
   "source": [
    "print(spam)\n",
    "print(spam[:2])"
   ]
  },
  {
   "cell_type": "markdown",
   "id": "0c597670",
   "metadata": {},
   "source": [
    "## Let's pretend bacon has the list [3.14,'cat',11,'cat',True] for the next three question"
   ]
  },
  {
   "cell_type": "markdown",
   "id": "4532aa75",
   "metadata": {},
   "source": [
    "#### 6. What is the value of bacon.index('cat')?"
   ]
  },
  {
   "cell_type": "markdown",
   "id": "b6d1d5fe",
   "metadata": {},
   "source": [
    "**Ans:** <br/>The value of `bacon.index('cat')` is `1` \n",
    "<br/>Index method returns the index of first occuerence of `'cat'`"
   ]
  },
  {
   "cell_type": "code",
   "execution_count": 11,
   "id": "29ad2c43",
   "metadata": {},
   "outputs": [
    {
     "name": "stdout",
     "output_type": "stream",
     "text": [
      "bacon.index('cat') -> 1\n"
     ]
    }
   ],
   "source": [
    "bacon=[3.14,'cat',11,'cat',True]\n",
    "print(\"bacon.index('cat') ->\",bacon.index('cat'))"
   ]
  },
  {
   "cell_type": "markdown",
   "id": "a6315daa",
   "metadata": {},
   "source": [
    "#### 7. How does bacon.append(99) change the look of the list value in bacon?\n",
    "**Ans:** <br/>The `append` method adds new elements to the end of the list"
   ]
  },
  {
   "cell_type": "code",
   "execution_count": 13,
   "id": "be0ebd05",
   "metadata": {},
   "outputs": [
    {
     "name": "stdout",
     "output_type": "stream",
     "text": [
      "[3.14, 'cat', 11, 'cat', True, 99]\n",
      "[3.14, 'cat', 11, 'cat', True, 99, 99]\n"
     ]
    }
   ],
   "source": [
    "# Example\n",
    "print(bacon)\n",
    "bacon.append(99) # Appends 99 to the end of the list\n",
    "print(bacon)"
   ]
  },
  {
   "cell_type": "markdown",
   "id": "85e81927",
   "metadata": {},
   "source": [
    "#### 8. How does bacon.remove('cat') change the look of the list in bacon?\n",
    "**Ans:** <br/>The `remove` method removes the first occurence of the element in the list"
   ]
  },
  {
   "cell_type": "code",
   "execution_count": 14,
   "id": "c3aca074",
   "metadata": {},
   "outputs": [
    {
     "name": "stdout",
     "output_type": "stream",
     "text": [
      "[3.14, 'cat', 11, 'cat', True, 99, 99]\n",
      "[3.14, 11, 'cat', True, 99, 99]\n"
     ]
    }
   ],
   "source": [
    "print(bacon)\n",
    "bacon.remove('cat')\n",
    "print(bacon)"
   ]
  },
  {
   "cell_type": "markdown",
   "id": "cdbe3c4a",
   "metadata": {},
   "source": [
    "#### 9.what are the list concatenation and list replication operations?\n",
    "**Ans:** <br/>The operator for list concatenation is `+`, while the operator for replication is `*`"
   ]
  },
  {
   "cell_type": "code",
   "execution_count": 17,
   "id": "bd9dc39a",
   "metadata": {},
   "outputs": [
    {
     "name": "stdout",
     "output_type": "stream",
     "text": [
      "['Hello', 'World', 'MS', 'House', 'Forman', 'Chase', 'Camron']\n",
      "['Hello', 'World', 'MS', 'House', 'Hello', 'World', 'MS', 'House', 'Hello', 'World', 'MS', 'House']\n"
     ]
    }
   ],
   "source": [
    "# Example\n",
    "l_1 = ['Hello','World','MS', 'House']\n",
    "l_2 = ['Forman','Chase','Camron']\n",
    "print(l_1 + l_2) # List Concatenation\n",
    "print(l_1*3) # List Replication"
   ]
  },
  {
   "cell_type": "markdown",
   "id": "d4f9b87c",
   "metadata": {},
   "source": [
    "#### 10.what is the difference between the list method append() and insert()?\n",
    "**Ans:** <br/>Append() will add values only to the end of a list\n",
    "<br/>Insert() can add them anywhere in the list, according to the index mentioned."
   ]
  },
  {
   "cell_type": "code",
   "execution_count": 18,
   "id": "e2901ff6",
   "metadata": {},
   "outputs": [
    {
     "name": "stdout",
     "output_type": "stream",
     "text": [
      "[1, 2, 3, 4, 5, 6]\n",
      "[1, 2, 'Cuddy', 3, 4, 5, 6]\n"
     ]
    }
   ],
   "source": [
    "#Examples\n",
    "list = [1,2,3,4,5]\n",
    "list.append(6)\n",
    "print(list)\n",
    "list.insert(2,'Cuddy')\n",
    "print(list)"
   ]
  },
  {
   "cell_type": "markdown",
   "id": "3b178c74",
   "metadata": {},
   "source": [
    "#### 11. What are the two methods for removing items from a list?\n",
    "**Ans:** <br/>The `del` statement and the `remove()` method are two ways to remove values from a list"
   ]
  },
  {
   "cell_type": "markdown",
   "id": "3811c0e8",
   "metadata": {},
   "source": [
    "#### 12. Describe how list values and string values are identical.\n",
    "**Ans:** <br/>Both lists and strings can be:\n",
    "1. Passed to `len()` function \n",
    "2. Have indexes and slices\n",
    "3. Used in `for` loops\n",
    "4. Concatenated or replicated\n",
    "5. Used with the `in` and `not in` operators"
   ]
  },
  {
   "cell_type": "markdown",
   "id": "4845136b",
   "metadata": {},
   "source": [
    "#### 13. What's the difference between tuples and lists?\n",
    "**Ans:** <br>Lists are `Mutable`, `Indexable` and `Slicable`. they can have values added, removed, or changed. List are indicated by square barackets, `[]`.\n",
    "<br/>Tuples are `Immutable` but `Indexable` and `Slicable`. the tuple values cannot be changed at all. Tuples are represented using parentheses, `()`."
   ]
  },
  {
   "cell_type": "markdown",
   "id": "7fa16181",
   "metadata": {},
   "source": [
    "#### 14. How do you type a tuple value that only contains the integer 42?\n",
    "**Ans:**<br>(42,) \n",
    "<br>The trailing comma is mandatory. otherwise its considered as a int"
   ]
  },
  {
   "cell_type": "code",
   "execution_count": 19,
   "id": "20c9775f",
   "metadata": {},
   "outputs": [
    {
     "name": "stdout",
     "output_type": "stream",
     "text": [
      "<class 'int'>\n",
      "<class 'tuple'>\n"
     ]
    }
   ],
   "source": [
    "tup1=(42)\n",
    "tup2=(42,)\n",
    "print(type(tup1))\n",
    "print(type(tup2))"
   ]
  },
  {
   "cell_type": "markdown",
   "id": "42d87c87",
   "metadata": {},
   "source": [
    "#### 15. How do you get a list value's tuple form? How do you get a tuple value's list form?\n",
    "**Ans:** <br>The tuple() and list() functions, respectively are used to convert a list to tuple and vice versa"
   ]
  },
  {
   "cell_type": "markdown",
   "id": "eac0fa89",
   "metadata": {},
   "source": [
    "#### 16. Variables that &quot;contain&quot; list values are not necessarily lists themselves. Instead, what do they contain?\n",
    "**Ans**: <br>They contain references to list values."
   ]
  },
  {
   "cell_type": "markdown",
   "id": "c0f78aa7",
   "metadata": {},
   "source": [
    "#### 17. How do you distinguish between copy.copy() and copy.deepcopy()?\n",
    "**Ans:**<br> The `copy.copy()` function will do a shallow copy of a list i.e., a copy of the original object is stored and only the reference address is finally copied.\n",
    "<br>`copy.deepcopy()` function will do a deep copy of a list i.e., the copy of the original object and the repetitive copies both are stored.\n",
    "<br>Only `copy.deepcopy()` will duplicate any lists inside the list."
   ]
  }
 ],
 "metadata": {
  "kernelspec": {
   "display_name": "Python 3",
   "language": "python",
   "name": "python3"
  },
  "language_info": {
   "codemirror_mode": {
    "name": "ipython",
    "version": 3
   },
   "file_extension": ".py",
   "mimetype": "text/x-python",
   "name": "python",
   "nbconvert_exporter": "python",
   "pygments_lexer": "ipython3",
   "version": "3.8.8"
  }
 },
 "nbformat": 4,
 "nbformat_minor": 5
}
