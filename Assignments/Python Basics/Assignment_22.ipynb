{
 "cells": [
  {
   "cell_type": "markdown",
   "id": "80a0e3c4",
   "metadata": {},
   "source": [
    "# Assignment 22 Solutions"
   ]
  },
  {
   "cell_type": "markdown",
   "id": "a091ea5b",
   "metadata": {},
   "source": [
    "#### 1. What is the result of the code, and explain?\n",
    "`>>> X = 'iNeuron'`  \n",
    "`>>> def func():`  \n",
    "`    print(X)`  \n",
    "`>>> func()`  \n",
    "**Ans:** <br>Output: `iNeuron`\n",
    "<br> The function intially looks for the variable `X` in its local scope but since there is no local variable `X`, its returns the value of global variable `X` = `iNeuron`"
   ]
  },
  {
   "cell_type": "code",
   "execution_count": 1,
   "id": "ee98b909",
   "metadata": {},
   "outputs": [
    {
     "name": "stdout",
     "output_type": "stream",
     "text": [
      "iNeuron\n"
     ]
    }
   ],
   "source": [
    "X = 'iNeuron'\n",
    "def func():\n",
    "    print(X)\n",
    "func()"
   ]
  },
  {
   "cell_type": "markdown",
   "id": "ef65e0b3",
   "metadata": {},
   "source": [
    "#### 2. What is the result of the code, and explain?\n",
    "`>>> X = 'iNeuron'`  \n",
    "`>>> def func():`  \n",
    "`X = 'NI!'`  \n",
    "`>>> func()`  \n",
    "`>>> print(X)`  \n",
    "**Ans:** \n",
    "<br> Output: `NI!`\n",
    "<br> The variable `X` is initially assigned `iNeuron` globally.\n",
    "<br> When the function `func()` is called, the variable `X` is now assigned `NI!`, locally.\n",
    "<br> However, since the print function is outside of the `func()` function, once the control exits the function, all the local variables are destroyed.\n",
    "<br>Therefore, the print function, prints outs the value of the global variable `X` = `iNeuron`."
   ]
  },
  {
   "cell_type": "code",
   "execution_count": 5,
   "id": "8f219394",
   "metadata": {},
   "outputs": [
    {
     "name": "stdout",
     "output_type": "stream",
     "text": [
      "iNeuron\n"
     ]
    }
   ],
   "source": [
    "X = 'iNeuron'\n",
    "def func():\n",
    "    X = 'NI!'\n",
    "func()\n",
    "print(X)"
   ]
  },
  {
   "cell_type": "markdown",
   "id": "952c9d0e",
   "metadata": {},
   "source": [
    "#### 3. What does this code print, and why?\n",
    "`>>> X = 'iNeuron'`  \n",
    "`>>> def func():`  \n",
    "`X = 'NI'`  \n",
    "`print(X)`  \n",
    "`>>> func()`  \n",
    "`>>> print(X)`   \n",
    "**Ans:** \n",
    "<br> Output:<br>`NI`\n",
    "            <br>`iNeuron`\n",
    "<br> The variable `X` is initially assigned `iNeuron` globally.\n",
    "<br> When the function `func()` is called, the variable `X` is now assigned `NI!`, locally.\n",
    "<br> Therefore, when the print function gets called, `NI` gets printed.\n",
    "<br> Since there is another print function outside of the `func()` function, once the control exits the function, all the local variables are destroyed.\n",
    "<br>Therefore, the print function, prints outs the value of the global variable `X` = `iNeuron`."
   ]
  },
  {
   "cell_type": "code",
   "execution_count": 7,
   "id": "cabebabc",
   "metadata": {},
   "outputs": [
    {
     "name": "stdout",
     "output_type": "stream",
     "text": [
      "NI\n",
      "iNeuron\n"
     ]
    }
   ],
   "source": [
    "X = 'iNeuron'\n",
    "def func():\n",
    "    X = 'NI'\n",
    "    print(X)\n",
    "func()\n",
    "print(X)"
   ]
  },
  {
   "cell_type": "markdown",
   "id": "905d8b7b",
   "metadata": {},
   "source": [
    "#### 4. What output does this code produce? Why?\n",
    "`>>> X = 'iNeuron'`   \n",
    "`>>> def func():`   \n",
    "`global X`   \n",
    "`X = 'NI'`   \n",
    "`>>> func()`   \n",
    "`>>> print(X)`   \n",
    "**Ans:** \n",
    "<br> Output: `NI`. \n",
    "<br>`global` keyword allows a variable to be accessible in the current scope. \n",
    "<br>Since we are using global keyword inside the function `func` it directly access the variable in `X` in global scope and changes its value to `NI`.\n",
    "<br>Therefore the output of the code is `NI`"
   ]
  },
  {
   "cell_type": "code",
   "execution_count": 9,
   "id": "64e260a6",
   "metadata": {},
   "outputs": [
    {
     "name": "stdout",
     "output_type": "stream",
     "text": [
      "NI\n"
     ]
    }
   ],
   "source": [
    "X = 'iNeuron'\n",
    "def func():\n",
    "    global X\n",
    "    X = 'NI'\n",
    "func()\n",
    "print(X)"
   ]
  },
  {
   "cell_type": "markdown",
   "id": "1c755c9f",
   "metadata": {},
   "source": [
    "#### 5. What about this code—what’s the output, and why?\n",
    "`>>> X = 'iNeuron'`   \n",
    "`>>> def func():`   \n",
    "`X = 'NI'`   \n",
    "`def nested():`   \n",
    "`print(X)`   \n",
    "`nested()`   \n",
    "`>>> func()`   \n",
    "`>>> X`   \n",
    "**Ans:** \n",
    "<br> Output: `NI`. \n",
    "<br> The variable `X` is initially assigned `iNeuron` globally.\n",
    "<br> When the function `func()` is called, the variable `X` gets assigned `NI!`, locally.\n",
    "<br> There's another function inside `func` defined and gets called as well.\n",
    "<br> Since the local scope is still valid, when the print function gets called, `NI` gets printed. \n",
    "<br>Also, as there is no print statement for X, the value of X wont be printed, though displayed in notebook"
   ]
  },
  {
   "cell_type": "code",
   "execution_count": 11,
   "id": "9fd84bb5",
   "metadata": {},
   "outputs": [
    {
     "name": "stdout",
     "output_type": "stream",
     "text": [
      "NI\n"
     ]
    },
    {
     "data": {
      "text/plain": [
       "'iNeuron'"
      ]
     },
     "execution_count": 11,
     "metadata": {},
     "output_type": "execute_result"
    }
   ],
   "source": [
    "X = 'iNeuron'\n",
    "def func():\n",
    "    X = 'NI'\n",
    "    def nested():\n",
    "        print(X)\n",
    "    nested()\n",
    "func()\n",
    "X"
   ]
  },
  {
   "cell_type": "markdown",
   "id": "f8c745c5",
   "metadata": {},
   "source": [
    "#### 6. How about this code: what is its output in Python 3, and explain?\n",
    "`>>> def func():`  \n",
    "`X = 'NI'`  \n",
    "`def nested():`  \n",
    "`nonlocal X`  \n",
    "`X = 'Spam'`  \n",
    "`nested()`  \n",
    "`print(X)`  \n",
    "`>>> func()`  \n",
    "**Ans:**\n",
    "<br> Output: `Spam`. \n",
    "<br>`nonlocal` keyword is used to declare a variable as not local.\n",
    "<br>Hence the statement `X = \"Spam\"` is modified in the global scope. \n",
    "<br> Therefore, the output of `print(X)` statement is `Spam`"
   ]
  },
  {
   "cell_type": "code",
   "execution_count": 12,
   "id": "9fab6b46",
   "metadata": {},
   "outputs": [
    {
     "name": "stdout",
     "output_type": "stream",
     "text": [
      "Spam\n"
     ]
    }
   ],
   "source": [
    "def func():\n",
    "    X = 'NI'\n",
    "    def nested():\n",
    "        nonlocal X\n",
    "        X = 'Spam'\n",
    "    nested()\n",
    "    print(X)\n",
    "func()"
   ]
  }
 ],
 "metadata": {
  "kernelspec": {
   "display_name": "Python 3",
   "language": "python",
   "name": "python3"
  },
  "language_info": {
   "codemirror_mode": {
    "name": "ipython",
    "version": 3
   },
   "file_extension": ".py",
   "mimetype": "text/x-python",
   "name": "python",
   "nbconvert_exporter": "python",
   "pygments_lexer": "ipython3",
   "version": "3.8.8"
  }
 },
 "nbformat": 4,
 "nbformat_minor": 5
}
