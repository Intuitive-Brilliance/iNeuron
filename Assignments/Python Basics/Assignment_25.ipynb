{
 "cells": [
  {
   "cell_type": "markdown",
   "id": "7f9b8597",
   "metadata": {},
   "source": [
    "# Assignment - 25 Solution"
   ]
  },
  {
   "cell_type": "markdown",
   "id": "5aee2c7e",
   "metadata": {},
   "source": [
    "#### 1) . What is the difference between enclosing a list comprehension in square brackets and parentheses?\n",
    "**Ans:**<br> Enclosing a list comprehension in square brackets returns a list.\n",
    "<br>Enclosing a list comprehension in parentheses returns a generator object"
   ]
  },
  {
   "cell_type": "code",
   "execution_count": 1,
   "id": "b4745353-bbeb-46d7-bcab-9f81ab1914b5",
   "metadata": {},
   "outputs": [
    {
     "name": "stdout",
     "output_type": "stream",
     "text": [
      "[0, 1, 2, 3, 4] <class 'list'>\n",
      "<generator object <genexpr> at 0x000002246FC82660> <class 'generator'>\n"
     ]
    }
   ],
   "source": [
    "lst = [ele for ele in range(5)]\n",
    "print(lst, type(lst))\n",
    "gen = (ele for ele in range(5))\n",
    "print(gen, type(gen))"
   ]
  },
  {
   "cell_type": "markdown",
   "id": "43ead631",
   "metadata": {},
   "source": [
    "#### 2) What is the relationship between generators and iterators?\n",
    "**Ans:**<br>\n",
    "`iterator` is an object which contains a countable number of values and it is used to iterate over iterable objects like list, tuples, sets, etc. \n",
    "<br>Iterators are implemented using a class. It follows lazy evaluation where the evaluation of the expression will be on hold and stored in the memory until the item is called specifically which helps us to avoid repeated evaluation. \n",
    "<br>As lazy evaluation is implemented, it requires only 1 memory location to process the value and when we are using a large dataset then, wastage of RAM space will reduce the need to load the entire dataset at the same time will not exist.\n",
    "<br>For an iterator: `iter()` keyword is used to create an iterator containing an iterable object.\n",
    "<br>`next()` keyword is used to call the next element in the iterable object.\n",
    "\n",
    "`Generators` are an another way of creating iterators in a simple way where it uses the keyword `yield` statement instead of `return` statement in a defined function.\n",
    "<br>Generators are implemented using a function. Just as iterators, generators also follow `lazy evaluation`. \n",
    "<br>The yield function returns the data without affecting or exiting the function. It will return a sequence of data in an iterable format where we need to iterate over the sequence to use the data as they won’t store the entire sequence in the memory."
   ]
  },
  {
   "cell_type": "code",
   "execution_count": 5,
   "id": "475ad9eb-18b8-4e3a-a246-86c341de25ad",
   "metadata": {
    "tags": []
   },
   "outputs": [
    {
     "name": "stdout",
     "output_type": "stream",
     "text": [
      "<class 'list_iterator'>\n",
      "Hello\n",
      "World\n",
      "in\n",
      "the\n",
      "moon\n",
      "<list_iterator object at 0x000002246FC92FA0>\n",
      "0\n",
      "1\n",
      "8\n",
      "27\n",
      "64\n",
      "125\n"
     ]
    }
   ],
   "source": [
    "# Example of iterartor\n",
    "iter_str = iter(['Hello','World','in','the','moon'])\n",
    "print(type(iter_str))\n",
    "print(next(iter_str))\n",
    "print(next(iter_str))\n",
    "print(next(iter_str))\n",
    "print(next(iter_str))\n",
    "print(next(iter_str))\n",
    "print(iter_str) # After the iterable object is completed, to use them again we have reassign them to the same object.\n",
    "\n",
    "# Example of Generator\n",
    "def cube_numbers(in_num):\n",
    "    for ele in range(in_num+1):\n",
    "        yield ele**3\n",
    "\n",
    "out_num = cube_numbers(5)\n",
    "print(next(out_num))\n",
    "print(next(out_num))\n",
    "print(next(out_num))\n",
    "print(next(out_num))\n",
    "print(next(out_num))\n",
    "print(next(out_num))"
   ]
  },
  {
   "cell_type": "markdown",
   "id": "c4bd6bf0",
   "metadata": {},
   "source": [
    "#### 3) What are the signs that a function is a generator function?\n",
    "**Ans:** \n",
    "<br>A generator function uses a `yield` statement instead of a `return` statement. \n",
    "<br>A generator function will always return a iterable object called generator."
   ]
  },
  {
   "cell_type": "markdown",
   "id": "b35dd5fe",
   "metadata": {},
   "source": [
    "#### 4) What is the purpose of a yield statement?\n",
    "**Ans:** \n",
    "<br>The yield statement suspends function’s execution and sends a value back to the caller, but retains enough state to enable function to resume where it is left off. \n",
    "<br>When resumed, the function continues execution immediately after the last yield run. \n",
    "<br>This allows its code to produce a series of values over time, rather than computing them at once and sending them back like a list."
   ]
  },
  {
   "cell_type": "markdown",
   "id": "d2182986",
   "metadata": {
    "tags": []
   },
   "source": [
    "#### 5) What is the relationship between map calls and list comprehensions? Make a comparison and contrast between the two ?\n",
    "**Ans:** \n",
    "1. List comprehension is more concise and easier to read as compared to map.\n",
    "2. List comprehension are used when a list of results is required as final output. Map only returns a map object and it needs to be explicitly converted to desired datatype.\n",
    "3. List comprehension allows filtering. In map, we have no such facility. \n",
    "<br>For example, to print all even numbers in range of 25, we can write `[n for n in range(25) if n%2 == 0]`. There is no alternate for it in map\n",
    "4. Map is faster in case of calling an already defined function on a set of values.\n",
    "5. List comprehension is faster than map when we need to evaluate expressions that are too long or complicated to express"
   ]
  }
 ],
 "metadata": {
  "kernelspec": {
   "display_name": "Python 3",
   "language": "python",
   "name": "python3"
  },
  "language_info": {
   "codemirror_mode": {
    "name": "ipython",
    "version": 3
   },
   "file_extension": ".py",
   "mimetype": "text/x-python",
   "name": "python",
   "nbconvert_exporter": "python",
   "pygments_lexer": "ipython3",
   "version": "3.8.8"
  }
 },
 "nbformat": 4,
 "nbformat_minor": 5
}
