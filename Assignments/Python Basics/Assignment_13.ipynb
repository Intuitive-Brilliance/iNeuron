{
 "cells": [
  {
   "cell_type": "markdown",
   "id": "e3bb5f2d",
   "metadata": {},
   "source": [
    "# Assignment - 13 Solution"
   ]
  },
  {
   "cell_type": "markdown",
   "id": "d8aab80a",
   "metadata": {},
   "source": [
    "#### 1. What advantages do Excel spreadsheets have over CSV spreadsheets?\n",
    "**Ans:** \n",
    "1. CSV files are plain-text files, does not contain formatting, formulas, macros, etc.\n",
    "2. Excel (XLS and XLSX) file formats are better for storing and analysing complex data.\n",
    "3. An Excel not only stores data but can also do operations on the data using macros, formulas etc\n"
   ]
  },
  {
   "cell_type": "markdown",
   "id": "b66e958d",
   "metadata": {},
   "source": [
    "#### 2.What do you pass to csv.reader() and csv.writer() to create reader and writer objects?\n",
    "**Ans:** <br>\n",
    "Mainly the `file object` and a `delimiter` is to be passed to obtain the reader and writer object.\n",
    "<br>The writer object can be used to input the data\n",
    "<br>The reader object can be traversed to obtain the data in the file"
   ]
  },
  {
   "cell_type": "code",
   "execution_count": 9,
   "id": "e7c67268",
   "metadata": {},
   "outputs": [
    {
     "name": "stdout",
     "output_type": "stream",
     "text": [
      "['Project', 'Year', 'Status']\n",
      "[]\n"
     ]
    }
   ],
   "source": [
    "import csv\n",
    "with open('text.csv','w') as file:\n",
    "    writer = csv.writer(file, delimiter=',')\n",
    "    writer.writerow(['Project', 'Year','Status'])    \n",
    "with open('text.csv','r') as file:\n",
    "    csv_file = csv.reader(file,delimiter=',')\n",
    "    for ele in csv_file:\n",
    "        print(ele)"
   ]
  },
  {
   "cell_type": "markdown",
   "id": "c3478f56",
   "metadata": {},
   "source": [
    "#### 3. What modes do File objects for reader and writer objects need to be opened in?\n",
    "**Ans:** \n",
    "<br>For `csv.reader(iterable_file_object)`, the file objects needed to be opened in `read` mode `mode='r'` .\n",
    "For `csv.writer(iterable_file_object)` the file objects needed to be opened in `write` mode `mode='w'`.\n"
   ]
  },
  {
   "cell_type": "markdown",
   "id": "c2f017ec",
   "metadata": {},
   "source": [
    "#### 4. What method takes a list argument and writes it to a CSV file?\n",
    "**Ans:** \n",
    "<br>csv.writer class provides two methods for writing to CSV: `writerow()` and `writerows().` \n",
    "<br>writerow() method writes a single row at a time. \n",
    "<br>writerows() method is used to write multiple rows at a time."
   ]
  },
  {
   "cell_type": "code",
   "execution_count": 10,
   "id": "3a3e46b5",
   "metadata": {},
   "outputs": [],
   "source": [
    "# Example\n",
    "import csv      \n",
    "fields = ['Project', 'Year','Status'] #column \n",
    "rows = [ \n",
    "            ['Megatron', '2022', 'Completed'],  # data\n",
    "            ['APNR', '2021', 'Completed'], \n",
    "       ] \n",
    "with open(\"project_log.csv\", 'w') as csvfile: \n",
    "    csvwriter = csv.writer(csvfile)\n",
    "    csvwriter.writerow(fields) \n",
    "    csvwriter.writerows(rows) "
   ]
  },
  {
   "cell_type": "markdown",
   "id": "68179164",
   "metadata": {},
   "source": [
    "#### 5. What do the keyword arguments delimiter and line terminator do?\n",
    "**Ans:**<br>  \n",
    "Delimiter specifies the character that is used to seperate data belonging to the subsequent column.\n",
    "<br>Line Terminator comes at end of line by default it is newline and can be changed accourding to requirement."
   ]
  },
  {
   "cell_type": "markdown",
   "id": "94752f89",
   "metadata": {},
   "source": [
    "#### 6. What function takes a string of JSON data and returns a Python data structure?\n",
    "**Ans:** \n",
    "<br>`loads()` method takes a string of JSON data and returns a Python data structure"
   ]
  },
  {
   "cell_type": "code",
   "execution_count": 11,
   "id": "cf976f3f",
   "metadata": {},
   "outputs": [
    {
     "name": "stdout",
     "output_type": "stream",
     "text": [
      "{\n",
      "    \"Project\": \"APNR\",\n",
      "    \"Year\": \"2021\",\n",
      "    \"Status\": \"Completed\"\n",
      "}\n",
      "Type of project is <class 'str'>\n",
      "{'Project': 'APNR', 'Year': '2021', 'Status': 'Completed'}\n",
      "Type of project is <class 'dict'>\n"
     ]
    }
   ],
   "source": [
    "# Example\n",
    "import json\n",
    "project ='''{\n",
    "    \"Project\": \"APNR\",\n",
    "    \"Year\": \"2021\",\n",
    "    \"Status\": \"Completed\"\n",
    "}'''\n",
    "print(project)\n",
    "print(f'Type of project is {type(project)}')\n",
    "project = json.loads(project)\n",
    "print(project)\n",
    "print(f'Type of project is {type(project)}')"
   ]
  },
  {
   "cell_type": "markdown",
   "id": "bc39716d",
   "metadata": {},
   "source": [
    "#### 7. What function takes a Python data structure and returns a string of JSON data?\n",
    "**Ans:** <br>`dumps()` method takes a python data structure and returns a string of JSON data"
   ]
  },
  {
   "cell_type": "code",
   "execution_count": 12,
   "id": "5125a827",
   "metadata": {},
   "outputs": [
    {
     "name": "stdout",
     "output_type": "stream",
     "text": [
      "{\n",
      "    \"Project\": \"APNR\",\n",
      "    \"Year\": \"2021\",\n",
      "    \"Status\": \"Completed\"\n",
      "}\n",
      "Type of project is  <class 'str'>\n",
      "\"{\\n    \\\"Project\\\": \\\"APNR\\\",\\n    \\\"Year\\\": \\\"2021\\\",\\n    \\\"Status\\\": \\\"Completed\\\"\\n}\"\n",
      "Type of project is <class 'str'>\n"
     ]
    }
   ],
   "source": [
    "# Example of json.dumps() method\n",
    "import json\n",
    "project ='''{\n",
    "    \"Project\": \"APNR\",\n",
    "    \"Year\": \"2021\",\n",
    "    \"Status\": \"Completed\"\n",
    "}'''\n",
    "print(project)\n",
    "print(f'Type of project is  {type(project)}')\n",
    "project = json.dumps(project, indent=4, sort_keys=True)\n",
    "print(project)\n",
    "print(f'Type of project is {type(project)}')"
   ]
  }
 ],
 "metadata": {
  "kernelspec": {
   "display_name": "Python 3",
   "language": "python",
   "name": "python3"
  },
  "language_info": {
   "codemirror_mode": {
    "name": "ipython",
    "version": 3
   },
   "file_extension": ".py",
   "mimetype": "text/x-python",
   "name": "python",
   "nbconvert_exporter": "python",
   "pygments_lexer": "ipython3",
   "version": "3.8.8"
  }
 },
 "nbformat": 4,
 "nbformat_minor": 5
}
