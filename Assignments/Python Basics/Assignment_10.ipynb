{
 "cells": [
  {
   "cell_type": "markdown",
   "id": "c750c84b",
   "metadata": {},
   "source": [
    "# Assignment - 10 Solution"
   ]
  },
  {
   "cell_type": "markdown",
   "id": "c00ae223",
   "metadata": {},
   "source": [
    "#### 1. How do you distinguish between shutil.copy() and shutil.copytree()?\n",
    "**Ans:** \n",
    "<br>`shutil.copy()` method is used to copy the contents of a folder from one directory to another directory\n",
    "<br>It takes two arguments `src`,`dest`:\n",
    "<br>`src` represents the folder path/file path to be copied \n",
    "<br>`dest` refers to the folder path / file path to where the `src` data should be copied\n",
    "\n",
    "\n",
    "<br>`shutil.copytree()` function is used to copy the entire contents of a folder to other folder. \n",
    "<br>It also takes two arguments `src` & `dest`\n",
    "<br>It copies all the content recursively and stores it in `dest`. the important catch here is `dest` must not exist prior to this and it will be created during the copy operation."
   ]
  },
  {
   "cell_type": "markdown",
   "id": "0a932861",
   "metadata": {},
   "source": [
    "#### 2. What function is used to rename files??\n",
    "**Ans:** <br>\n",
    "`os.rename()` function is used to rename files or directories\n",
    "<br>It takes two arguments `src` and `dest`"
   ]
  },
  {
   "cell_type": "markdown",
   "id": "34ce7a3d",
   "metadata": {},
   "source": [
    "#### 3. What is the difference between the delete functions in the send2trash and shutil modules?\n",
    "**Ans:** \n",
    "<br>Shutil module provides a funciton called as `shutil.rmtree()` which deletes a directory and all its contents. \n",
    "<br>The other functions with similar functionality are `os.remove()` -> removes a file, `os.rmdir()` removes a empty directory. \n",
    "<br>However, once a file is deleted,  it will be lost permanently.\n",
    "\n",
    "<br>Send2trash module provides a function called `send2trash.send2trash()` to delete a file/directory. \n",
    "<br>It moves the files/directories to trash folder instead of permanently deleting them. \n",
    "<br>Hence if a file/folder is deleted accidentally it can be still recovered from trash folder."
   ]
  },
  {
   "cell_type": "markdown",
   "id": "bf6ed792",
   "metadata": {},
   "source": [
    "#### 4.ZipFile objects have a close() method just like File objects’ close() method. What ZipFile method is equivalent to File objects’ open() method?\n",
    "**Ans:** <br>`zipfile.ZipFile()` is equivalent to `open()`.\n",
    "<br>It takes arugments `filename` and `mode` : `zipfile.ZipFile('filename', mode = 'r')`"
   ]
  },
  {
   "cell_type": "markdown",
   "id": "c625fcea",
   "metadata": {},
   "source": [
    "#### 5. Create a programme that searches a folder tree for files with a certain file extension (such as .pdf or .jpg). Copy these files from whatever location they are in to a new folder"
   ]
  },
  {
   "cell_type": "code",
   "execution_count": 4,
   "id": "4710d7d8",
   "metadata": {},
   "outputs": [
    {
     "name": "stdout",
     "output_type": "stream",
     "text": [
      "Folder Name ➞ F:\\Learning\\iNeuron\\Assignments\\Solutions\\Dummy folder\n",
      "\n",
      "Sub Folders ➞ []\n",
      "\n",
      "Files ➞ ['dummy_text.txt']\n",
      "\n",
      "Files copied successfully from F:\\Learning\\iNeuron\\Assignments\\Solutions\\Dummy folder to F:\\Learning\\iNeuron\\Assignments\\Solutions\\dummy destination\n"
     ]
    }
   ],
   "source": [
    "import os\n",
    "import shutil\n",
    "\n",
    "def search_and_copy(source,destination,extensions):\n",
    "    source = os.path.abspath(source)\n",
    "    destination = os.path.abspath(destination)\n",
    "    for foldername, subfolder, filenames in os.walk(source):\n",
    "        print(f'Folder Name ➞ {foldername}',end='\\n\\n')\n",
    "        print(f'Sub Folders ➞ {subfolder}',end='\\n\\n')\n",
    "        print(f'Files ➞ {filenames}',end='\\n\\n')\n",
    "        for filename in filenames:\n",
    "            fileName,extension = os.path.splitext(filename)\n",
    "            if extension in extensions:\n",
    "                targetFile = foldername+os.path.sep+fileName+extension\n",
    "                shutil.copy(targetFile, destination)\n",
    "        print(f'Files copied successfully from {source} to {destination}')\n",
    "    \n",
    "extensions = ['.txt']\n",
    "source = 'F:\\Learning\\iNeuron\\Assignments\\Solutions\\Dummy folder'\n",
    "destination = 'F:\\Learning\\iNeuron\\Assignments\\Solutions\\dummy destination'\n",
    "search_and_copy(source, destination, extensions)"
   ]
  }
 ],
 "metadata": {
  "kernelspec": {
   "display_name": "Python 3",
   "language": "python",
   "name": "python3"
  },
  "language_info": {
   "codemirror_mode": {
    "name": "ipython",
    "version": 3
   },
   "file_extension": ".py",
   "mimetype": "text/x-python",
   "name": "python",
   "nbconvert_exporter": "python",
   "pygments_lexer": "ipython3",
   "version": "3.8.8"
  }
 },
 "nbformat": 4,
 "nbformat_minor": 5
}
