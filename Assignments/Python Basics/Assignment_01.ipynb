{
 "cells": [
  {
   "cell_type": "markdown",
   "metadata": {},
   "source": [
    "# Assignment - 1 Solution"
   ]
  },
  {
   "cell_type": "markdown",
   "metadata": {},
   "source": [
    "#### 1. In the below elements which of them are values or an expression? eg:- values can be integer or string and expressions will be mathematical operators.  \n",
    "`*`,`'hello'`, `-87.8`,`-`,`/`,`+`,`6`\n",
    "\n",
    "**Ans:**<br>\n",
    "Operators: `*`,`-`,`/`,`+`  \n",
    "Expressions: `'hello'`, `-87.8`, `6`<br>"
   ]
  },
  {
   "cell_type": "markdown",
   "metadata": {},
   "source": [
    "#### 2. What is the difference between string and variable?\n",
    "**Ans:**<br>\n",
    "A string is a sequence of characters enclosed in double quotes `\" \"` or single quotes `' '`.<br>\n",
    "A variable is an object that stores value or data.            "
   ]
  },
  {
   "cell_type": "markdown",
   "metadata": {},
   "source": [
    "#### 3. Describe three different Data Types ?\n",
    "**Ans:**<br>\n",
    "1. int data type: Integer values +ve and -ve are referred to as integer data type.\n",
    "2. float data type: Decimal values are referred to as float data type.\n",
    "3. string data type: Strings are a sequence of characters enclosed in double quotes `\" \"` or single quotes `' '`."
   ]
  },
  {
   "cell_type": "code",
   "execution_count": 5,
   "metadata": {},
   "outputs": [
    {
     "name": "stdout",
     "output_type": "stream",
     "text": [
      "69 <class 'int'>\n",
      "0.42 <class 'float'>\n",
      "Nice <class 'str'>\n"
     ]
    }
   ],
   "source": [
    "# Example for int data type\n",
    "int_num= 69\n",
    "print(int_num, type(int_num))\n",
    "# Example for float data type\n",
    "float_num= 0.42\n",
    "print(float_num, type(float_num))\n",
    "# Example for String data type\n",
    "string = 'Nice'\n",
    "print(string, type(string))"
   ]
  },
  {
   "cell_type": "markdown",
   "metadata": {},
   "source": [
    "#### 4. What is an expression made up of? What do all expressions do?\n",
    "**Ans:** <br>\n",
    "An expression is a combination of values, variables, operators, and calls to functions.<br>\n",
    "Expressions perform some sort of function or operation which is evaluated by the interpreter and result is obtained."
   ]
  },
  {
   "cell_type": "markdown",
   "metadata": {},
   "source": [
    "#### 5.This assignment statements, like spam = 10. What is the difference between an expression and a statement?\n",
    "**Ans:** <br>\n",
    "An expression is a combination of values, variables, operators, and calls to functions.<br>\n",
    "Expressions perform some sort of function or operation which is evaluated by the interpreter and result is obtained.<br>\n",
    "eg: 1+1 is an example of an expression.\n",
    "\n",
    "A statement is simply a command that the interpreter executes.<br>\n",
    "eg: Assignment operations (a=5), print statements, variable declarations etc.\n"
   ]
  },
  {
   "cell_type": "markdown",
   "metadata": {},
   "source": [
    "#### 6.After running the following code, what does the variable bacon contain?\n",
    "`bacon = 22`  \n",
    "`bacon + 1`\n",
    "\n",
    "**Ans:**<br>\n",
    "Since there is no reassignment or replacement operation for the varible bacon, it will retain the initial value assigned.<br>\n",
    "Therefore `bacon=22`"
   ]
  },
  {
   "cell_type": "markdown",
   "metadata": {},
   "source": [
    "#### 7.What should the values of the following two terms be?  \n",
    "`'spam'+'spamspam'`  \n",
    "`'spam'*3`\n",
    "\n",
    "**Ans:**<br>Both expressions yeild the following result.<br> `'spamspamspam'`\n"
   ]
  },
  {
   "cell_type": "markdown",
   "metadata": {},
   "source": [
    "#### 8. Why is eggs a valid variable name while 100 is invalid?\n",
    "**Ans:**<br>\n",
    "As per the rules of python, variable names cannot begin with a number, however they are allowed to begin with alpha numeric characters given that they are not keywords. "
   ]
  },
  {
   "cell_type": "markdown",
   "metadata": {},
   "source": [
    "#### 9.What three functions can be used to get the integer,floating-point number,or string version of a value?\n",
    "**Ans:**<br> `int()`,`float()`,and `str()` will perform type conversion operations and return integer, floating point, and string version of the value passed."
   ]
  },
  {
   "cell_type": "markdown",
   "metadata": {},
   "source": [
    "#### 10.Why does this expression cause an error? how can you fix it?  \n",
    "`'I have eaten ' + 99 + 'burritos.'`\n",
    "\n",
    "**Ans:** <br>\n",
    "The above expression causes an error because integer or any numeric data cannot be concatenated with string data.<br>\n",
    "Only string data can be concatenated with other string data.<br>\n",
    "Therefore to fix this issue, `99` must be converted from integer to string by `str()` type conversion function.<br>\n",
    "`'I have eaten ' + str(99) + 'burritos.'`  "
   ]
  },
  {
   "cell_type": "code",
   "execution_count": 4,
   "metadata": {},
   "outputs": [
    {
     "name": "stdout",
     "output_type": "stream",
     "text": [
      "I have eaten 99 burritos\n"
     ]
    }
   ],
   "source": [
    "print('I have eaten '+str(99)+' burritos')"
   ]
  }
 ],
 "metadata": {
  "kernelspec": {
   "display_name": "Python 3",
   "language": "python",
   "name": "python3"
  },
  "language_info": {
   "codemirror_mode": {
    "name": "ipython",
    "version": 3
   },
   "file_extension": ".py",
   "mimetype": "text/x-python",
   "name": "python",
   "nbconvert_exporter": "python",
   "pygments_lexer": "ipython3",
   "version": "3.8.8"
  }
 },
 "nbformat": 4,
 "nbformat_minor": 4
}
