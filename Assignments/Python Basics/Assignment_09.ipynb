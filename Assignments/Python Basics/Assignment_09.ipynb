{
 "cells": [
  {
   "cell_type": "markdown",
   "id": "5e4896b3",
   "metadata": {},
   "source": [
    "# Assignment - 9 Solution"
   ]
  },
  {
   "cell_type": "markdown",
   "id": "7a719726",
   "metadata": {},
   "source": [
    "#### 1.To what does a relative path refer ?\n",
    "**Ans:** <br>The relative path is the path to some file with respect to your current working directory (PWD).  \n",
    "<br>Eg. If absolute path to a file called ineuron.txt is: `C:/users/admin/ineuron.txt` and my PWD is `C:/users` , then the relative path to `ineuron.txt` would be: `admin/ineuron.txt`       \n",
    "<br>PWD + relative path = absolute path"
   ]
  },
  {
   "cell_type": "markdown",
   "id": "1e5a7601",
   "metadata": {},
   "source": [
    "#### 2.Where does an absolute path start with your Operating System ?\n",
    "**Ans:** In Linux based systems the absolute path starts with **`/`**. Where as in Windows based systems absolute path starts with **`C:`**"
   ]
  },
  {
   "cell_type": "markdown",
   "id": "20cf4bf7",
   "metadata": {},
   "source": [
    "#### 3.What does the functions `os.getcwd()` and `os.chdir()` do ?\n",
    "**Ans:** <br>`os.getcwd()` method tells us the location of current working directory (CWD). \n",
    "<br>`os.chdir()` method in Python used to change the current working directory to specified path. "
   ]
  },
  {
   "cell_type": "code",
   "execution_count": 4,
   "id": "b45b79f1",
   "metadata": {},
   "outputs": [
    {
     "name": "stdout",
     "output_type": "stream",
     "text": [
      "F:\\Learning\\iNeuron\\Assignments\\Solutions\\Python\\Python Basic Assignment\n",
      "C:\\Users\\Admin\\anaconda3\\Scripts\n"
     ]
    }
   ],
   "source": [
    "import os\n",
    "print(os.getcwd()) # Prints the current Working Directory\n",
    "path = r'C:\\\\Users\\\\Admin\\\\anaconda3\\\\Scripts'\n",
    "os.chdir(path)\n",
    "print(os.getcwd())"
   ]
  },
  {
   "cell_type": "markdown",
   "id": "ef89a436",
   "metadata": {},
   "source": [
    "#### 4.What are `.` and `..`  folders ?\n",
    "**Ans:** <br>`.` Represents the Current Directory\n",
    "<br>`..` Represents the Parent Directory of the Current Directory  \n",
    "<br>Eg.\n",
    "<br>Absolute Path: `F:\\Learning\\iNeuron\\Assignments\\Solutions\\Python\\Python Basic Assignment`  \n",
    "`.` represents:  `F:\\Learning\\iNeuron\\Assignments\\Solutions\\Python\\Python Basic Assignment`  \n",
    "`..` represents: `F:\\Learning\\iNeuron\\Assignments\\Solutions\\Python`"
   ]
  },
  {
   "cell_type": "markdown",
   "id": "dc9559e2",
   "metadata": {},
   "source": [
    "#### 5.In `C:\\bacon\\eggs\\spam.txt` which part is the dir name and which part is the base name ?\n",
    "**Ans:** <br>For `C:\\bacon\\eggs\\spam.txt`  \n",
    "The dir name is `C:\\\\bacon\\\\eggs`  \n",
    "The Base name is `spam.txt`"
   ]
  },
  {
   "cell_type": "markdown",
   "id": "edb97d1b",
   "metadata": {},
   "source": [
    "#### 6.What are the three `mode` arguments that can be passed to the `open()` function ?\n",
    "**Ans:**<br>\n",
    "* **`‘r’`** – Read Mode: This is the default mode for open(). The file is opened and a pointer is positioned at the beginning of the file’s content.\n",
    "* **`‘w’`** – Write Mode: Using this mode will overwrite any existing content in a file. If the given file does not exist, a new one will be created. \n",
    "* **`‘r+’`** – Read/Write Mode: Use this mode if you need to simultaneously read and write to a file.\n",
    "* **`‘a’`** – Append Mode: With this mode the user can append the data without overwriting any already existing data in the file. \n",
    "* **`‘a+’`** – Append and Read Mode: In this mode you can read and append the data without overwriting the original file.\n",
    "* **`‘x’`** – Exclusive Creating Mode: This mode is for the sole purpose of creating new files. Use this mode if you know the file to be written doesn’t exist beforehand."
   ]
  },
  {
   "cell_type": "markdown",
   "id": "a6250b7d",
   "metadata": {},
   "source": [
    "#### 7.What happens if an existing file is opened in write mode ?\n",
    "**Ans:** <br>The existing content will be overwritten. \n",
    "<br>If the given file does not exist, a new one will be created."
   ]
  },
  {
   "cell_type": "markdown",
   "id": "e76da392",
   "metadata": {},
   "source": [
    "#### 8.How do you tell the difference between `read()` and `readlines()` ?\n",
    "**Ans:** <br>**`read()`** will read the whole file at once and then print out the first characters that take up as many bytes as you specify in the parenthesis\n",
    "<br>**`read()`** would treat each character in the file separately, meaning that the iteration would happen for every character.\n",
    "<br>**`readline()`** will read and print out only the first characters that take up as many bytes as you specify in the parenthesis.\n",
    "<br>**`readline()`** function only reads a single line of the file. This means that if the first line of the file were two lines long, the readline() function would only parse on the first line of the file."
   ]
  },
  {
   "cell_type": "markdown",
   "id": "9e161992",
   "metadata": {},
   "source": [
    "#### 9.What data structure does a shelf value resemble ?\n",
    "**Ans:** \n",
    "<br>It contains key and values thereby representing a dictionary."
   ]
  }
 ],
 "metadata": {
  "kernelspec": {
   "display_name": "Python 3",
   "language": "python",
   "name": "python3"
  },
  "language_info": {
   "codemirror_mode": {
    "name": "ipython",
    "version": 3
   },
   "file_extension": ".py",
   "mimetype": "text/x-python",
   "name": "python",
   "nbconvert_exporter": "python",
   "pygments_lexer": "ipython3",
   "version": "3.8.8"
  }
 },
 "nbformat": 4,
 "nbformat_minor": 5
}
