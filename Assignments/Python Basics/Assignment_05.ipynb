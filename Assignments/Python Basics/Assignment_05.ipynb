{
 "cells": [
  {
   "cell_type": "markdown",
   "metadata": {},
   "source": [
    "# Assignment - 5 Solution"
   ]
  },
  {
   "cell_type": "markdown",
   "metadata": {},
   "source": [
    "#### 1.What does an empty dictionary's code look like?\n",
    "**Ans:** <br>An empty dictionary is represented by two empty curly brackets  \n",
    "`d = {}` or `d = dict()`"
   ]
  },
  {
   "cell_type": "markdown",
   "metadata": {},
   "source": [
    "#### 2.what is the value of dictionary value with key 'foo' and the value 42 ?\n",
    "**Ans:** <br>`{'foo':42}`"
   ]
  },
  {
   "cell_type": "markdown",
   "metadata": {},
   "source": [
    "#### 3.What is the most significant distinction between a dictionary and a list?\n",
    "**Ans:** <br>Dictionaries are represented by `{}` and the items stored in a dictionary are unordered \n",
    "<br>Lists are represented by `[]` and the items in a list are ordered"
   ]
  },
  {
   "cell_type": "markdown",
   "metadata": {},
   "source": [
    "#### 4.What happens if you try to access spam ['foo'] if spam is {'bar':100} ?\n",
    "**Ans:** <br>It will result in a keyError `KeyError: 'foo'`"
   ]
  },
  {
   "cell_type": "markdown",
   "metadata": {},
   "source": [
    "#### 5.if a dictionary is stored in spam,what is the difference between the expressions 'cat' in spam and 'cat' in spam.keys() ?\n",
    "**Ans:** <br>\n",
    "There is no difference . The operator checks whether the mentioned value exists as a key in the dictionary or not."
   ]
  },
  {
   "cell_type": "markdown",
   "metadata": {},
   "source": [
    "#### 6.if a dictionary is stored in spam,what is the difference between the expressions 'cat' in spam and 'cat' in spam.values() ?\n",
    "**Ans:**<br>'cat' in spam checks whether there is a key named 'cat' in the spam dictionary\n",
    "<br>'cat' in spam.values() checks whether there is a value 'cat' for any of the keys in spam."
   ]
  },
  {
   "cell_type": "markdown",
   "metadata": {},
   "source": [
    "#### 7.what is a shortcut for the following code ?\n",
    "`if 'color' not in spam:\n",
    "    spam['color'] ='black'`\n",
    "    \n",
    "**Ans:** <br>`spam.setdefault('color','black')`"
   ]
  },
  {
   "cell_type": "markdown",
   "metadata": {},
   "source": [
    "#### 8.How do you 'pretty print' dictionary values using which modules and function ?\n",
    "**Ans:** \n",
    "<br>Pretty printing of a dictionary can be done using three functions\n",
    "1. by using pprint() function of pprint module\n",
    "2. by using dumps() method of json module\n",
    "3. by using dumps() method of yaml module\n"
   ]
  },
  {
   "cell_type": "code",
   "execution_count": 4,
   "metadata": {},
   "outputs": [
    {
     "name": "stdout",
     "output_type": "stream",
     "text": [
      "print() function\n",
      " [{'Name': 'Greg', 'Age': '43', 'Residence': {'Country': 'India', 'City': 'Bangalore'}}, {'Name': 'Taub', 'Age': '34', 'Residence': {'Country': 'UK', 'City': 'England'}}, {'Name': 'Thirteen', 'Age': '29', 'Residence': {'Country': 'Japan', 'City': 'Tokyo'}}, {'Name': 'Wilson', 'Age': '45', 'Residence': {'Country': 'Spain', 'City': 'Madrid'}}]\n",
      "----------------------------------------------------------------------------------------------------\n",
      "pprint() funciton\n",
      "[{'Age': '43',\n",
      "  'Name': 'Greg',\n",
      "  'Residence': {'City': 'Bangalore', 'Country': 'India'}},\n",
      " {'Age': '34',\n",
      "  'Name': 'Taub',\n",
      "  'Residence': {'City': 'England', 'Country': 'UK'}},\n",
      " {'Age': '29',\n",
      "  'Name': 'Thirteen',\n",
      "  'Residence': {'City': 'Tokyo', 'Country': 'Japan'}},\n",
      " {'Age': '45',\n",
      "  'Name': 'Wilson',\n",
      "  'Residence': {'City': 'Madrid', 'Country': 'Spain'}}]\n",
      "----------------------------------------------------------------------------------------------------\n",
      "dumps() method\n",
      " [\n",
      "    {\n",
      "        \"Name\": \"Greg\",\n",
      "        \"Age\": \"43\",\n",
      "        \"Residence\": {\n",
      "            \"Country\": \"India\",\n",
      "            \"City\": \"Bangalore\"\n",
      "        }\n",
      "    },\n",
      "    {\n",
      "        \"Name\": \"Taub\",\n",
      "        \"Age\": \"34\",\n",
      "        \"Residence\": {\n",
      "            \"Country\": \"UK\",\n",
      "            \"City\": \"England\"\n",
      "        }\n",
      "    },\n",
      "    {\n",
      "        \"Name\": \"Thirteen\",\n",
      "        \"Age\": \"29\",\n",
      "        \"Residence\": {\n",
      "            \"Country\": \"Japan\",\n",
      "            \"City\": \"Tokyo\"\n",
      "        }\n",
      "    },\n",
      "    {\n",
      "        \"Name\": \"Wilson\",\n",
      "        \"Age\": \"45\",\n",
      "        \"Residence\": {\n",
      "            \"Country\": \"Spain\",\n",
      "            \"City\": \"Madrid\"\n",
      "        }\n",
      "    }\n",
      "]\n",
      "----------------------------------------------------------------------------------------------------\n",
      "dump() method\n",
      " - Age: '43'\n",
      "  Name: Greg\n",
      "  Residence:\n",
      "    City: Bangalore\n",
      "    Country: India\n",
      "- Age: '34'\n",
      "  Name: Taub\n",
      "  Residence:\n",
      "    City: England\n",
      "    Country: UK\n",
      "- Age: '29'\n",
      "  Name: Thirteen\n",
      "  Residence:\n",
      "    City: Tokyo\n",
      "    Country: Japan\n",
      "- Age: '45'\n",
      "  Name: Wilson\n",
      "  Residence:\n",
      "    City: Madrid\n",
      "    Country: Spain\n",
      "\n"
     ]
    }
   ],
   "source": [
    "ndict = [\n",
    "  {'Name': 'Greg', 'Age': '43', 'Residence': {'Country':'India', 'City': 'Bangalore'}},\n",
    "  {'Name': 'Taub', 'Age': '34', 'Residence': {'Country':'UK', 'City': 'England'}},\n",
    "  {'Name': 'Thirteen', 'Age': '29', 'Residence': {'Country':'Japan', 'City': 'Tokyo'}},\n",
    "  {'Name': 'Wilson', 'Age': '45', 'Residence': {'Country':'Spain', 'City': 'Madrid'}}\n",
    "]\n",
    "\n",
    "print('print() function\\n',ndict)\n",
    "print('-'*100)\n",
    "import pprint\n",
    "print('pprint() funciton')\n",
    "pprint.pprint(ndict)\n",
    "print('-'*100)\n",
    "import json\n",
    "dump = json.dumps(ndict, indent=4)\n",
    "print('dumps() method\\n', dump)\n",
    "print('-'*100)\n",
    "import yaml\n",
    "dump = yaml.dump(ndict)\n",
    "print('dump() method\\n', dump)\n"
   ]
  }
 ],
 "metadata": {
  "kernelspec": {
   "display_name": "Python 3",
   "language": "python",
   "name": "python3"
  },
  "language_info": {
   "codemirror_mode": {
    "name": "ipython",
    "version": 3
   },
   "file_extension": ".py",
   "mimetype": "text/x-python",
   "name": "python",
   "nbconvert_exporter": "python",
   "pygments_lexer": "ipython3",
   "version": "3.8.8"
  }
 },
 "nbformat": 4,
 "nbformat_minor": 4
}
